{
 "cells": [
  {
   "cell_type": "code",
   "execution_count": 305,
   "id": "25012b0a",
   "metadata": {
    "_cell_guid": "b1076dfc-b9ad-4769-8c92-a6c4dae69d19",
    "_uuid": "8f2839f25d086af736a60e9eeb907d3b93b6e0e5",
    "execution": {
     "iopub.execute_input": "2023-04-22T08:47:20.901852Z",
     "iopub.status.busy": "2023-04-22T08:47:20.901349Z",
     "iopub.status.idle": "2023-04-22T08:47:25.831863Z",
     "shell.execute_reply": "2023-04-22T08:47:25.830694Z"
    },
    "papermill": {
     "duration": 4.943043,
     "end_time": "2023-04-22T08:47:25.834796",
     "exception": false,
     "start_time": "2023-04-22T08:47:20.891753",
     "status": "completed"
    },
    "tags": []
   },
   "outputs": [],
   "source": [
    "import numpy as np\n",
    "import json\n",
    "import pandas as pd\n",
    "import re\n",
    "import torch\n",
    "import random\n",
    "import torch.nn as nn\n",
    "import transformers\n",
    "import gc\n",
    "from transformers import BertTokenizer , BertModel\n",
    "import matplotlib.pyplot as plt\n",
    "import torch.nn.functional as F\n",
    "from torch.optim import Adam\n",
    "from tqdm import tqdm\n",
    "import wandb\n",
    "from sklearn.metrics import classification_report, confusion_matrix\n",
    "import plotly.figure_factory as ff"
   ]
  },
  {
   "cell_type": "code",
   "execution_count": 352,
   "id": "c13d82a5",
   "metadata": {},
   "outputs": [],
   "source": [
    "with open('./data/Intent.json') as f:\n",
    "    data_en = json.load(f)"
   ]
  },
  {
   "cell_type": "code",
   "execution_count": 306,
   "id": "b65987dc",
   "metadata": {
    "execution": {
     "iopub.execute_input": "2023-04-22T08:47:25.849787Z",
     "iopub.status.busy": "2023-04-22T08:47:25.849479Z",
     "iopub.status.idle": "2023-04-22T08:47:25.865959Z",
     "shell.execute_reply": "2023-04-22T08:47:25.865029Z"
    },
    "papermill": {
     "duration": 0.026333,
     "end_time": "2023-04-22T08:47:25.868017",
     "exception": false,
     "start_time": "2023-04-22T08:47:25.841684",
     "status": "completed"
    },
    "tags": []
   },
   "outputs": [],
   "source": [
    "with open('./data/IntentPortuguese.json') as f:\n",
    "    data = json.load(f)"
   ]
  },
  {
   "cell_type": "code",
   "execution_count": 307,
   "id": "fb143d1a",
   "metadata": {},
   "outputs": [],
   "source": [
    "with open('./data/TestsPortuguese.json') as f:\n",
    "    tests_data = json.load(f)"
   ]
  },
  {
   "cell_type": "code",
   "execution_count": 308,
   "id": "563f5443",
   "metadata": {},
   "outputs": [
    {
     "data": {
      "text/html": [
       "Tracking run with wandb version 0.18.5"
      ],
      "text/plain": [
       "<IPython.core.display.HTML object>"
      ]
     },
     "metadata": {},
     "output_type": "display_data"
    },
    {
     "data": {
      "text/html": [
       "Run data is saved locally in <code>/Users/moises/Documents/intent-chat/wandb/run-20241101_142337-o4imfx37</code>"
      ],
      "text/plain": [
       "<IPython.core.display.HTML object>"
      ]
     },
     "metadata": {},
     "output_type": "display_data"
    },
    {
     "data": {
      "text/html": [
       "Syncing run <strong><a href='https://wandb.ai/tail_joka/intent_recognition/runs/o4imfx37' target=\"_blank\">vivid-blossom-12</a></strong> to <a href='https://wandb.ai/tail_joka/intent_recognition' target=\"_blank\">Weights & Biases</a> (<a href='https://wandb.me/run' target=\"_blank\">docs</a>)<br/>"
      ],
      "text/plain": [
       "<IPython.core.display.HTML object>"
      ]
     },
     "metadata": {},
     "output_type": "display_data"
    },
    {
     "data": {
      "text/html": [
       " View project at <a href='https://wandb.ai/tail_joka/intent_recognition' target=\"_blank\">https://wandb.ai/tail_joka/intent_recognition</a>"
      ],
      "text/plain": [
       "<IPython.core.display.HTML object>"
      ]
     },
     "metadata": {},
     "output_type": "display_data"
    },
    {
     "data": {
      "text/html": [
       " View run at <a href='https://wandb.ai/tail_joka/intent_recognition/runs/o4imfx37' target=\"_blank\">https://wandb.ai/tail_joka/intent_recognition/runs/o4imfx37</a>"
      ],
      "text/plain": [
       "<IPython.core.display.HTML object>"
      ]
     },
     "metadata": {},
     "output_type": "display_data"
    },
    {
     "data": {
      "text/html": [
       "<button onClick=\"this.nextSibling.style.display='block';this.style.display='none';\">Display W&B run</button><iframe src='https://wandb.ai/tail_joka/intent_recognition/runs/o4imfx37?jupyter=true' style='border:none;width:100%;height:420px;display:none;'></iframe>"
      ],
      "text/plain": [
       "<wandb.sdk.wandb_run.Run at 0x145494dc0>"
      ]
     },
     "execution_count": 308,
     "metadata": {},
     "output_type": "execute_result"
    }
   ],
   "source": [
    "wandb.init(project='intent_recognition')"
   ]
  },
  {
   "cell_type": "markdown",
   "id": "a2b0e2a4",
   "metadata": {
    "papermill": {
     "duration": 0.006025,
     "end_time": "2023-04-22T08:47:25.880412",
     "exception": false,
     "start_time": "2023-04-22T08:47:25.874387",
     "status": "completed"
    },
    "tags": []
   },
   "source": [
    "# Configuration"
   ]
  },
  {
   "cell_type": "code",
   "execution_count": 309,
   "id": "09d3c247",
   "metadata": {
    "execution": {
     "iopub.execute_input": "2023-04-22T08:47:25.895027Z",
     "iopub.status.busy": "2023-04-22T08:47:25.893972Z",
     "iopub.status.idle": "2023-04-22T08:47:25.899458Z",
     "shell.execute_reply": "2023-04-22T08:47:25.898544Z"
    },
    "papermill": {
     "duration": 0.014816,
     "end_time": "2023-04-22T08:47:25.901515",
     "exception": false,
     "start_time": "2023-04-22T08:47:25.886699",
     "status": "completed"
    },
    "tags": []
   },
   "outputs": [],
   "source": [
    "class cfg:\n",
    "    num_classes=28\n",
    "    epochs=20\n",
    "    batch_size=10\n",
    "    lr=1e-5\n",
    "    max_length=20"
   ]
  },
  {
   "cell_type": "code",
   "execution_count": 310,
   "id": "7df3be2e",
   "metadata": {},
   "outputs": [],
   "source": [
    "config = wandb.config          # Acede ao objeto de configuração\n",
    "config.learning_rate = cfg.lr\n",
    "config.epochs = cfg.epochs\n",
    "config.batch_size = cfg.batch_size"
   ]
  },
  {
   "cell_type": "markdown",
   "id": "045d2659",
   "metadata": {
    "papermill": {
     "duration": 0.006419,
     "end_time": "2023-04-22T08:47:25.914168",
     "exception": false,
     "start_time": "2023-04-22T08:47:25.907749",
     "status": "completed"
    },
    "tags": []
   },
   "source": [
    "# Here we define our training dataframe"
   ]
  },
  {
   "cell_type": "code",
   "execution_count": null,
   "id": "1ca67d97",
   "metadata": {
    "execution": {
     "iopub.execute_input": "2023-04-22T08:47:25.927548Z",
     "iopub.status.busy": "2023-04-22T08:47:25.927195Z",
     "iopub.status.idle": "2023-04-22T08:47:25.962932Z",
     "shell.execute_reply": "2023-04-22T08:47:25.961938Z"
    },
    "papermill": {
     "duration": 0.045392,
     "end_time": "2023-04-22T08:47:25.965662",
     "exception": false,
     "start_time": "2023-04-22T08:47:25.920270",
     "status": "completed"
    },
    "tags": []
   },
   "outputs": [
    {
     "data": {
      "text/html": [
       "<div>\n",
       "<style scoped>\n",
       "    .dataframe tbody tr th:only-of-type {\n",
       "        vertical-align: middle;\n",
       "    }\n",
       "\n",
       "    .dataframe tbody tr th {\n",
       "        vertical-align: top;\n",
       "    }\n",
       "\n",
       "    .dataframe thead th {\n",
       "        text-align: right;\n",
       "    }\n",
       "</style>\n",
       "<table border=\"1\" class=\"dataframe\">\n",
       "  <thead>\n",
       "    <tr style=\"text-align: right;\">\n",
       "      <th></th>\n",
       "      <th>intent</th>\n",
       "      <th>text</th>\n",
       "      <th>responses</th>\n",
       "      <th>extension</th>\n",
       "      <th>context</th>\n",
       "      <th>entityType</th>\n",
       "      <th>entities</th>\n",
       "    </tr>\n",
       "  </thead>\n",
       "  <tbody>\n",
       "    <tr>\n",
       "      <th>0</th>\n",
       "      <td>Saudação</td>\n",
       "      <td>[Oi, Oi lá, Olá, Alô, Alô lá, Ei, Ei lá, Eai]</td>\n",
       "      <td>[Oi humano, por favor, diga-me seu nome, Olá h...</td>\n",
       "      <td>{'function': '', 'entities': False, 'responses...</td>\n",
       "      <td>{'in': '', 'out': 'PedidoUsuárioSaudação', 'cl...</td>\n",
       "      <td>NA</td>\n",
       "      <td>[]</td>\n",
       "    </tr>\n",
       "    <tr>\n",
       "      <th>1</th>\n",
       "      <td>RespostaSaudação</td>\n",
       "      <td>[Adam, Bella, Meu usuário é Adam, Me chamo Ada...</td>\n",
       "      <td>[Ótimo! Oi &lt;HUMANO&gt;! Como posso ajudar?, Bom! ...</td>\n",
       "      <td>{'function': 'extensions.gHumans.updateHuman',...</td>\n",
       "      <td>{'in': 'PedidoUsuárioSaudação', 'out': '', 'cl...</td>\n",
       "      <td>NA</td>\n",
       "      <td>[{'entity': 'HUMANO', 'rangeFrom': 3, 'rangeTo...</td>\n",
       "    </tr>\n",
       "    <tr>\n",
       "      <th>2</th>\n",
       "      <td>SaudaçãoCortesia</td>\n",
       "      <td>[Como vai?, Oi, como vai?, Olá, como vai?, Olá...</td>\n",
       "      <td>[Olá, estou ótimo, e você? Por favor, diga-me ...</td>\n",
       "      <td>{'function': '', 'entities': False, 'responses...</td>\n",
       "      <td>{'in': '', 'out': 'PedidoUsuárioSaudaçãoCortes...</td>\n",
       "      <td>NA</td>\n",
       "      <td>[]</td>\n",
       "    </tr>\n",
       "    <tr>\n",
       "      <th>3</th>\n",
       "      <td>RespostaSaudaçãoCortesia</td>\n",
       "      <td>[Bem, obrigado! Meu usuário é Adam, Bem, obrig...</td>\n",
       "      <td>[Ótimo! Oi &lt;HUMANO&gt;! Como posso ajudar?, Bom! ...</td>\n",
       "      <td>{'function': 'extensions.gHumans.updateHuman',...</td>\n",
       "      <td>{'in': 'PedidoUsuárioSaudação', 'out': '', 'cl...</td>\n",
       "      <td>NA</td>\n",
       "      <td>[{'entity': 'HUMANO', 'rangeFrom': 5, 'rangeTo...</td>\n",
       "    </tr>\n",
       "    <tr>\n",
       "      <th>4</th>\n",
       "      <td>ConsultaHumanoAtual</td>\n",
       "      <td>[Qual é o meu nome?, Como você me chama?, Quem...</td>\n",
       "      <td>[Você é &lt;HUMANO&gt;! Como posso ajudar?, Seu nome...</td>\n",
       "      <td>{'function': 'extensions.gHumans.getCurrentHum...</td>\n",
       "      <td>{'in': '', 'out': 'ConsultaHumanoAtual', 'clea...</td>\n",
       "      <td>NA</td>\n",
       "      <td>[]</td>\n",
       "    </tr>\n",
       "  </tbody>\n",
       "</table>\n",
       "</div>"
      ],
      "text/plain": [
       "                     intent  \\\n",
       "0                  Saudação   \n",
       "1          RespostaSaudação   \n",
       "2          SaudaçãoCortesia   \n",
       "3  RespostaSaudaçãoCortesia   \n",
       "4       ConsultaHumanoAtual   \n",
       "\n",
       "                                                text  \\\n",
       "0      [Oi, Oi lá, Olá, Alô, Alô lá, Ei, Ei lá, Eai]   \n",
       "1  [Adam, Bella, Meu usuário é Adam, Me chamo Ada...   \n",
       "2  [Como vai?, Oi, como vai?, Olá, como vai?, Olá...   \n",
       "3  [Bem, obrigado! Meu usuário é Adam, Bem, obrig...   \n",
       "4  [Qual é o meu nome?, Como você me chama?, Quem...   \n",
       "\n",
       "                                           responses  \\\n",
       "0  [Oi humano, por favor, diga-me seu nome, Olá h...   \n",
       "1  [Ótimo! Oi <HUMANO>! Como posso ajudar?, Bom! ...   \n",
       "2  [Olá, estou ótimo, e você? Por favor, diga-me ...   \n",
       "3  [Ótimo! Oi <HUMANO>! Como posso ajudar?, Bom! ...   \n",
       "4  [Você é <HUMANO>! Como posso ajudar?, Seu nome...   \n",
       "\n",
       "                                           extension  \\\n",
       "0  {'function': '', 'entities': False, 'responses...   \n",
       "1  {'function': 'extensions.gHumans.updateHuman',...   \n",
       "2  {'function': '', 'entities': False, 'responses...   \n",
       "3  {'function': 'extensions.gHumans.updateHuman',...   \n",
       "4  {'function': 'extensions.gHumans.getCurrentHum...   \n",
       "\n",
       "                                             context entityType  \\\n",
       "0  {'in': '', 'out': 'PedidoUsuárioSaudação', 'cl...         NA   \n",
       "1  {'in': 'PedidoUsuárioSaudação', 'out': '', 'cl...         NA   \n",
       "2  {'in': '', 'out': 'PedidoUsuárioSaudaçãoCortes...         NA   \n",
       "3  {'in': 'PedidoUsuárioSaudação', 'out': '', 'cl...         NA   \n",
       "4  {'in': '', 'out': 'ConsultaHumanoAtual', 'clea...         NA   \n",
       "\n",
       "                                            entities  \n",
       "0                                                 []  \n",
       "1  [{'entity': 'HUMANO', 'rangeFrom': 3, 'rangeTo...  \n",
       "2                                                 []  \n",
       "3  [{'entity': 'HUMANO', 'rangeFrom': 5, 'rangeTo...  \n",
       "4                                                 []  "
      ]
     },
     "execution_count": 311,
     "metadata": {},
     "output_type": "execute_result"
    }
   ],
   "source": [
    "df = pd.DataFrame(data['intents'])\n",
    "df.head()"
   ]
  },
  {
   "cell_type": "code",
   "execution_count": 312,
   "id": "7484009a",
   "metadata": {
    "execution": {
     "iopub.execute_input": "2023-04-22T08:47:25.981479Z",
     "iopub.status.busy": "2023-04-22T08:47:25.979912Z",
     "iopub.status.idle": "2023-04-22T08:47:25.996358Z",
     "shell.execute_reply": "2023-04-22T08:47:25.995280Z"
    },
    "papermill": {
     "duration": 0.026175,
     "end_time": "2023-04-22T08:47:25.998507",
     "exception": false,
     "start_time": "2023-04-22T08:47:25.972332",
     "status": "completed"
    },
    "tags": []
   },
   "outputs": [
    {
     "data": {
      "text/html": [
       "<div>\n",
       "<style scoped>\n",
       "    .dataframe tbody tr th:only-of-type {\n",
       "        vertical-align: middle;\n",
       "    }\n",
       "\n",
       "    .dataframe tbody tr th {\n",
       "        vertical-align: top;\n",
       "    }\n",
       "\n",
       "    .dataframe thead th {\n",
       "        text-align: right;\n",
       "    }\n",
       "</style>\n",
       "<table border=\"1\" class=\"dataframe\">\n",
       "  <thead>\n",
       "    <tr style=\"text-align: right;\">\n",
       "      <th></th>\n",
       "      <th>text</th>\n",
       "      <th>intent</th>\n",
       "    </tr>\n",
       "  </thead>\n",
       "  <tbody>\n",
       "    <tr>\n",
       "      <th>0</th>\n",
       "      <td>[Oi, Oi lá, Olá, Alô, Alô lá, Ei, Ei lá, Eai]</td>\n",
       "      <td>Saudação</td>\n",
       "    </tr>\n",
       "    <tr>\n",
       "      <th>1</th>\n",
       "      <td>[Adam, Bella, Meu usuário é Adam, Me chamo Ada...</td>\n",
       "      <td>RespostaSaudação</td>\n",
       "    </tr>\n",
       "    <tr>\n",
       "      <th>2</th>\n",
       "      <td>[Como vai?, Oi, como vai?, Olá, como vai?, Olá...</td>\n",
       "      <td>SaudaçãoCortesia</td>\n",
       "    </tr>\n",
       "    <tr>\n",
       "      <th>3</th>\n",
       "      <td>[Bem, obrigado! Meu usuário é Adam, Bem, obrig...</td>\n",
       "      <td>RespostaSaudaçãoCortesia</td>\n",
       "    </tr>\n",
       "    <tr>\n",
       "      <th>4</th>\n",
       "      <td>[Qual é o meu nome?, Como você me chama?, Quem...</td>\n",
       "      <td>ConsultaHumanoAtual</td>\n",
       "    </tr>\n",
       "  </tbody>\n",
       "</table>\n",
       "</div>"
      ],
      "text/plain": [
       "                                                text                    intent\n",
       "0      [Oi, Oi lá, Olá, Alô, Alô lá, Ei, Ei lá, Eai]                  Saudação\n",
       "1  [Adam, Bella, Meu usuário é Adam, Me chamo Ada...          RespostaSaudação\n",
       "2  [Como vai?, Oi, como vai?, Olá, como vai?, Olá...          SaudaçãoCortesia\n",
       "3  [Bem, obrigado! Meu usuário é Adam, Bem, obrig...  RespostaSaudaçãoCortesia\n",
       "4  [Qual é o meu nome?, Como você me chama?, Quem...       ConsultaHumanoAtual"
      ]
     },
     "execution_count": 312,
     "metadata": {},
     "output_type": "execute_result"
    }
   ],
   "source": [
    "df_patterns = df[['text', 'intent']]\n",
    "df_responses = df[['responses', 'intent']]\n",
    "df_patterns.head()"
   ]
  },
  {
   "cell_type": "code",
   "execution_count": 313,
   "id": "28048b24",
   "metadata": {
    "execution": {
     "iopub.execute_input": "2023-04-22T08:47:26.015053Z",
     "iopub.status.busy": "2023-04-22T08:47:26.013441Z",
     "iopub.status.idle": "2023-04-22T08:47:26.035986Z",
     "shell.execute_reply": "2023-04-22T08:47:26.034949Z"
    },
    "papermill": {
     "duration": 0.032159,
     "end_time": "2023-04-22T08:47:26.038133",
     "exception": false,
     "start_time": "2023-04-22T08:47:26.005974",
     "status": "completed"
    },
    "tags": []
   },
   "outputs": [
    {
     "data": {
      "text/html": [
       "<div>\n",
       "<style scoped>\n",
       "    .dataframe tbody tr th:only-of-type {\n",
       "        vertical-align: middle;\n",
       "    }\n",
       "\n",
       "    .dataframe tbody tr th {\n",
       "        vertical-align: top;\n",
       "    }\n",
       "\n",
       "    .dataframe thead th {\n",
       "        text-align: right;\n",
       "    }\n",
       "</style>\n",
       "<table border=\"1\" class=\"dataframe\">\n",
       "  <thead>\n",
       "    <tr style=\"text-align: right;\">\n",
       "      <th></th>\n",
       "      <th>text</th>\n",
       "      <th>intent</th>\n",
       "    </tr>\n",
       "  </thead>\n",
       "  <tbody>\n",
       "    <tr>\n",
       "      <th>0</th>\n",
       "      <td>Oi</td>\n",
       "      <td>Saudação</td>\n",
       "    </tr>\n",
       "    <tr>\n",
       "      <th>0</th>\n",
       "      <td>Oi lá</td>\n",
       "      <td>Saudação</td>\n",
       "    </tr>\n",
       "    <tr>\n",
       "      <th>0</th>\n",
       "      <td>Olá</td>\n",
       "      <td>Saudação</td>\n",
       "    </tr>\n",
       "    <tr>\n",
       "      <th>0</th>\n",
       "      <td>Alô</td>\n",
       "      <td>Saudação</td>\n",
       "    </tr>\n",
       "    <tr>\n",
       "      <th>0</th>\n",
       "      <td>Alô lá</td>\n",
       "      <td>Saudação</td>\n",
       "    </tr>\n",
       "  </tbody>\n",
       "</table>\n",
       "</div>"
      ],
      "text/plain": [
       "     text    intent\n",
       "0      Oi  Saudação\n",
       "0   Oi lá  Saudação\n",
       "0     Olá  Saudação\n",
       "0     Alô  Saudação\n",
       "0  Alô lá  Saudação"
      ]
     },
     "execution_count": 313,
     "metadata": {},
     "output_type": "execute_result"
    }
   ],
   "source": [
    "df_patterns = df_patterns.explode('text')\n",
    "df_patterns.head()"
   ]
  },
  {
   "cell_type": "markdown",
   "id": "a209cacd",
   "metadata": {},
   "source": [
    "# Here we define our test dataframe"
   ]
  },
  {
   "cell_type": "code",
   "execution_count": 314,
   "id": "fc503d1a",
   "metadata": {},
   "outputs": [
    {
     "data": {
      "text/html": [
       "<div>\n",
       "<style scoped>\n",
       "    .dataframe tbody tr th:only-of-type {\n",
       "        vertical-align: middle;\n",
       "    }\n",
       "\n",
       "    .dataframe tbody tr th {\n",
       "        vertical-align: top;\n",
       "    }\n",
       "\n",
       "    .dataframe thead th {\n",
       "        text-align: right;\n",
       "    }\n",
       "</style>\n",
       "<table border=\"1\" class=\"dataframe\">\n",
       "  <thead>\n",
       "    <tr style=\"text-align: right;\">\n",
       "      <th></th>\n",
       "      <th>intent</th>\n",
       "      <th>text</th>\n",
       "    </tr>\n",
       "  </thead>\n",
       "  <tbody>\n",
       "    <tr>\n",
       "      <th>0</th>\n",
       "      <td>Saudação</td>\n",
       "      <td>[Olá, como você está?, E aí, tudo bem?, Boa ta...</td>\n",
       "    </tr>\n",
       "    <tr>\n",
       "      <th>1</th>\n",
       "      <td>RespostaSaudação</td>\n",
       "      <td>[Eu me chamo Carlos, Meu nome é Julia, Paulo f...</td>\n",
       "    </tr>\n",
       "    <tr>\n",
       "      <th>2</th>\n",
       "      <td>SaudaçãoCortesia</td>\n",
       "      <td>[Tudo bem por aí?, Você está bem hoje?, Espero...</td>\n",
       "    </tr>\n",
       "    <tr>\n",
       "      <th>3</th>\n",
       "      <td>RespostaSaudaçãoCortesia</td>\n",
       "      <td>[Estou ótimo, obrigado. Me chamo Henrique., Eu...</td>\n",
       "    </tr>\n",
       "    <tr>\n",
       "      <th>4</th>\n",
       "      <td>ConsultaHumanoAtual</td>\n",
       "      <td>[Poderia confirmar quem sou?, Esqueci, como vo...</td>\n",
       "    </tr>\n",
       "  </tbody>\n",
       "</table>\n",
       "</div>"
      ],
      "text/plain": [
       "                     intent                                               text\n",
       "0                  Saudação  [Olá, como você está?, E aí, tudo bem?, Boa ta...\n",
       "1          RespostaSaudação  [Eu me chamo Carlos, Meu nome é Julia, Paulo f...\n",
       "2          SaudaçãoCortesia  [Tudo bem por aí?, Você está bem hoje?, Espero...\n",
       "3  RespostaSaudaçãoCortesia  [Estou ótimo, obrigado. Me chamo Henrique., Eu...\n",
       "4       ConsultaHumanoAtual  [Poderia confirmar quem sou?, Esqueci, como vo..."
      ]
     },
     "execution_count": 314,
     "metadata": {},
     "output_type": "execute_result"
    }
   ],
   "source": [
    "df_test = pd.DataFrame(tests_data['intents'])\n",
    "df_test.head()"
   ]
  },
  {
   "cell_type": "code",
   "execution_count": 315,
   "id": "83431d49",
   "metadata": {},
   "outputs": [
    {
     "data": {
      "text/html": [
       "<div>\n",
       "<style scoped>\n",
       "    .dataframe tbody tr th:only-of-type {\n",
       "        vertical-align: middle;\n",
       "    }\n",
       "\n",
       "    .dataframe tbody tr th {\n",
       "        vertical-align: top;\n",
       "    }\n",
       "\n",
       "    .dataframe thead th {\n",
       "        text-align: right;\n",
       "    }\n",
       "</style>\n",
       "<table border=\"1\" class=\"dataframe\">\n",
       "  <thead>\n",
       "    <tr style=\"text-align: right;\">\n",
       "      <th></th>\n",
       "      <th>text</th>\n",
       "      <th>intent</th>\n",
       "    </tr>\n",
       "  </thead>\n",
       "  <tbody>\n",
       "    <tr>\n",
       "      <th>0</th>\n",
       "      <td>[Olá, como você está?, E aí, tudo bem?, Boa ta...</td>\n",
       "      <td>Saudação</td>\n",
       "    </tr>\n",
       "    <tr>\n",
       "      <th>1</th>\n",
       "      <td>[Eu me chamo Carlos, Meu nome é Julia, Paulo f...</td>\n",
       "      <td>RespostaSaudação</td>\n",
       "    </tr>\n",
       "    <tr>\n",
       "      <th>2</th>\n",
       "      <td>[Tudo bem por aí?, Você está bem hoje?, Espero...</td>\n",
       "      <td>SaudaçãoCortesia</td>\n",
       "    </tr>\n",
       "    <tr>\n",
       "      <th>3</th>\n",
       "      <td>[Estou ótimo, obrigado. Me chamo Henrique., Eu...</td>\n",
       "      <td>RespostaSaudaçãoCortesia</td>\n",
       "    </tr>\n",
       "    <tr>\n",
       "      <th>4</th>\n",
       "      <td>[Poderia confirmar quem sou?, Esqueci, como vo...</td>\n",
       "      <td>ConsultaHumanoAtual</td>\n",
       "    </tr>\n",
       "  </tbody>\n",
       "</table>\n",
       "</div>"
      ],
      "text/plain": [
       "                                                text                    intent\n",
       "0  [Olá, como você está?, E aí, tudo bem?, Boa ta...                  Saudação\n",
       "1  [Eu me chamo Carlos, Meu nome é Julia, Paulo f...          RespostaSaudação\n",
       "2  [Tudo bem por aí?, Você está bem hoje?, Espero...          SaudaçãoCortesia\n",
       "3  [Estou ótimo, obrigado. Me chamo Henrique., Eu...  RespostaSaudaçãoCortesia\n",
       "4  [Poderia confirmar quem sou?, Esqueci, como vo...       ConsultaHumanoAtual"
      ]
     },
     "execution_count": 315,
     "metadata": {},
     "output_type": "execute_result"
    }
   ],
   "source": [
    "test_patterns = df_test[['text', 'intent']]\n",
    "test_patterns.head()"
   ]
  },
  {
   "cell_type": "code",
   "execution_count": 316,
   "id": "0e9c8478",
   "metadata": {},
   "outputs": [
    {
     "data": {
      "text/html": [
       "<div>\n",
       "<style scoped>\n",
       "    .dataframe tbody tr th:only-of-type {\n",
       "        vertical-align: middle;\n",
       "    }\n",
       "\n",
       "    .dataframe tbody tr th {\n",
       "        vertical-align: top;\n",
       "    }\n",
       "\n",
       "    .dataframe thead th {\n",
       "        text-align: right;\n",
       "    }\n",
       "</style>\n",
       "<table border=\"1\" class=\"dataframe\">\n",
       "  <thead>\n",
       "    <tr style=\"text-align: right;\">\n",
       "      <th></th>\n",
       "      <th>text</th>\n",
       "      <th>intent</th>\n",
       "    </tr>\n",
       "  </thead>\n",
       "  <tbody>\n",
       "    <tr>\n",
       "      <th>0</th>\n",
       "      <td>Olá, como você está?</td>\n",
       "      <td>Saudação</td>\n",
       "    </tr>\n",
       "    <tr>\n",
       "      <th>0</th>\n",
       "      <td>E aí, tudo bem?</td>\n",
       "      <td>Saudação</td>\n",
       "    </tr>\n",
       "    <tr>\n",
       "      <th>0</th>\n",
       "      <td>Boa tarde, tudo em ordem?</td>\n",
       "      <td>Saudação</td>\n",
       "    </tr>\n",
       "    <tr>\n",
       "      <th>0</th>\n",
       "      <td>Saudações, como posso ser assistido?</td>\n",
       "      <td>Saudação</td>\n",
       "    </tr>\n",
       "    <tr>\n",
       "      <th>0</th>\n",
       "      <td>Oi oi, como vai?</td>\n",
       "      <td>Saudação</td>\n",
       "    </tr>\n",
       "  </tbody>\n",
       "</table>\n",
       "</div>"
      ],
      "text/plain": [
       "                                   text    intent\n",
       "0                  Olá, como você está?  Saudação\n",
       "0                       E aí, tudo bem?  Saudação\n",
       "0             Boa tarde, tudo em ordem?  Saudação\n",
       "0  Saudações, como posso ser assistido?  Saudação\n",
       "0                      Oi oi, como vai?  Saudação"
      ]
     },
     "execution_count": 316,
     "metadata": {},
     "output_type": "execute_result"
    }
   ],
   "source": [
    "test_patterns = test_patterns.explode('text')\n",
    "test_patterns.head()"
   ]
  },
  {
   "cell_type": "markdown",
   "id": "2a1d42f9",
   "metadata": {
    "papermill": {
     "duration": 0.006832,
     "end_time": "2023-04-22T08:47:26.051695",
     "exception": false,
     "start_time": "2023-04-22T08:47:26.044863",
     "status": "completed"
    },
    "tags": []
   },
   "source": [
    "## Here is the count distribution of the given intents"
   ]
  },
  {
   "cell_type": "code",
   "execution_count": 354,
   "id": "e248fc96",
   "metadata": {},
   "outputs": [
    {
     "name": "stdout",
     "output_type": "stream",
     "text": [
      "22\n"
     ]
    },
    {
     "data": {
      "image/png": "[encoded data removed]",
      "text/plain": [
       "<Figure size 640x480 with 1 Axes>"
      ]
     },
     "metadata": {},
     "output_type": "display_data"
    }
   ],
   "source": [
    "df_eng = pd.DataFrame(data_en['intents'])\n",
    "s=set(list(df_eng['intent']))\n",
    "print(len(s))\n",
    "df_patterns_eng = df_eng[['text', 'intent']]\n",
    "df_patterns_eng = df_patterns_eng.explode('text')\n",
    "df_patterns_eng.groupby(['intent']).size().plot.bar()\n",
    "# Obtém o limite atual do eixo y\n",
    "y_max = plt.ylim()[1]\n",
    "\n",
    "# Define novos ticks para o eixo y, garantindo que todos sejam inteiros\n",
    "plt.yticks(range(0, int(y_max)+1, 1))\n",
    "\n",
    "plt.show()"
   ]
  },
  {
   "cell_type": "code",
   "execution_count": 317,
   "id": "3a47876e",
   "metadata": {
    "execution": {
     "iopub.execute_input": "2023-04-22T08:47:26.067055Z",
     "iopub.status.busy": "2023-04-22T08:47:26.066174Z",
     "iopub.status.idle": "2023-04-22T08:47:26.433831Z",
     "shell.execute_reply": "2023-04-22T08:47:26.432886Z"
    },
    "papermill": {
     "duration": 0.377739,
     "end_time": "2023-04-22T08:47:26.436120",
     "exception": false,
     "start_time": "2023-04-22T08:47:26.058381",
     "status": "completed"
    },
    "tags": []
   },
   "outputs": [
    {
     "data": {
      "image/png": "[encoded data removed]",
      "text/plain": [
       "<Figure size 640x480 with 1 Axes>"
      ]
     },
     "metadata": {},
     "output_type": "display_data"
    }
   ],
   "source": [
    "df_patterns.groupby(['intent']).size().plot.bar()\n",
    "# Obtém o limite atual do eixo y\n",
    "y_max = plt.ylim()[1]\n",
    "\n",
    "# Define novos ticks para o eixo y, garantindo que todos sejam inteiros\n",
    "plt.yticks(range(0, int(y_max)+1, 1))\n",
    "\n",
    "plt.show()"
   ]
  },
  {
   "cell_type": "code",
   "execution_count": 318,
   "id": "1eb11f16",
   "metadata": {},
   "outputs": [
    {
     "data": {
      "image/png": "[encoded data removed]",
      "text/plain": [
       "<Figure size 640x480 with 1 Axes>"
      ]
     },
     "metadata": {},
     "output_type": "display_data"
    }
   ],
   "source": [
    "test_patterns.groupby(['intent']).size().plot.bar()\n",
    "# Obtém o limite atual do eixo y\n",
    "y_max = plt.ylim()[1]\n",
    "\n",
    "# Define novos ticks para o eixo y, garantindo que todos sejam inteiros\n",
    "plt.yticks(range(0, int(y_max)+1, 1))\n",
    "\n",
    "plt.show()"
   ]
  },
  {
   "cell_type": "code",
   "execution_count": 319,
   "id": "674947c3",
   "metadata": {
    "execution": {
     "iopub.execute_input": "2023-04-22T08:47:26.452576Z",
     "iopub.status.busy": "2023-04-22T08:47:26.452270Z",
     "iopub.status.idle": "2023-04-22T08:47:26.456932Z",
     "shell.execute_reply": "2023-04-22T08:47:26.455900Z"
    },
    "papermill": {
     "duration": 0.015183,
     "end_time": "2023-04-22T08:47:26.459074",
     "exception": false,
     "start_time": "2023-04-22T08:47:26.443891",
     "status": "completed"
    },
    "tags": []
   },
   "outputs": [],
   "source": [
    "df=df_patterns.copy()"
   ]
  },
  {
   "cell_type": "code",
   "execution_count": 320,
   "id": "b3fd7b52",
   "metadata": {},
   "outputs": [],
   "source": [
    "test=test_patterns.copy()"
   ]
  },
  {
   "cell_type": "markdown",
   "id": "b4789209",
   "metadata": {
    "papermill": {
     "duration": 0.008019,
     "end_time": "2023-04-22T08:47:26.474389",
     "exception": false,
     "start_time": "2023-04-22T08:47:26.466370",
     "status": "completed"
    },
    "tags": []
   },
   "source": [
    "## Defining the labels"
   ]
  },
  {
   "cell_type": "code",
   "execution_count": 321,
   "id": "8ba27090",
   "metadata": {
    "execution": {
     "iopub.execute_input": "2023-04-22T08:47:26.491072Z",
     "iopub.status.busy": "2023-04-22T08:47:26.490193Z",
     "iopub.status.idle": "2023-04-22T08:47:26.496174Z",
     "shell.execute_reply": "2023-04-22T08:47:26.495258Z"
    },
    "papermill": {
     "duration": 0.016218,
     "end_time": "2023-04-22T08:47:26.498103",
     "exception": false,
     "start_time": "2023-04-22T08:47:26.481885",
     "status": "completed"
    },
    "tags": []
   },
   "outputs": [],
   "source": [
    "s=set(list(df['intent']))\n",
    "j=0\n",
    "labels={}\n",
    "for i in s:\n",
    "    labels[i]=j\n",
    "    j+=1\n"
   ]
  },
  {
   "cell_type": "code",
   "execution_count": 322,
   "id": "3f5d63b4",
   "metadata": {},
   "outputs": [
    {
     "data": {
      "text/plain": [
       "28"
      ]
     },
     "execution_count": 322,
     "metadata": {},
     "output_type": "execute_result"
    }
   ],
   "source": [
    "len(labels)"
   ]
  },
  {
   "cell_type": "code",
   "execution_count": 323,
   "id": "33e06d88",
   "metadata": {
    "execution": {
     "iopub.execute_input": "2023-04-22T08:47:26.514646Z",
     "iopub.status.busy": "2023-04-22T08:47:26.513801Z",
     "iopub.status.idle": "2023-04-22T08:47:26.520698Z",
     "shell.execute_reply": "2023-04-22T08:47:26.519681Z"
    },
    "papermill": {
     "duration": 0.017313,
     "end_time": "2023-04-22T08:47:26.522869",
     "exception": false,
     "start_time": "2023-04-22T08:47:26.505556",
     "status": "completed"
    },
    "tags": []
   },
   "outputs": [
    {
     "data": {
      "text/plain": [
       "{'FazerDenuncia': 0,\n",
       " 'ConsultaEntendimento': 1,\n",
       " 'DespedidaComCortesia': 2,\n",
       " 'InformacaoDeHorarioData': 3,\n",
       " 'Fallback': 4,\n",
       " 'RespostaSaudaçãoCortesia': 5,\n",
       " 'ConsultaUltimosIntents': 6,\n",
       " 'Saudação': 7,\n",
       " 'Autoconsciência': 8,\n",
       " 'Caladinho': 9,\n",
       " 'ConsultaDialogueState': 10,\n",
       " 'Piadas': 11,\n",
       " 'SaudaçãoCortesia': 12,\n",
       " 'PedidoDeAjuda': 13,\n",
       " 'NãoEstavaFalandoComVocê': 14,\n",
       " 'Adeus': 15,\n",
       " 'ConsultaHumanoAtual': 16,\n",
       " 'ConsultaNomeReal': 17,\n",
       " 'ConsultaHora': 18,\n",
       " 'RespostaSaudação': 19,\n",
       " 'RecebimentoDeLocalizacao': 20,\n",
       " 'Inteligente': 21,\n",
       " 'Agradecimentos': 22,\n",
       " 'ConsultaNome': 23,\n",
       " 'Fofoca': 24,\n",
       " 'QuemSouEu': 25,\n",
       " 'Palavrões': 26,\n",
       " 'AnuncioDeMedoOuPerigo': 27}"
      ]
     },
     "execution_count": 323,
     "metadata": {},
     "output_type": "execute_result"
    }
   ],
   "source": [
    "labels"
   ]
  },
  {
   "cell_type": "markdown",
   "id": "5b9616a9",
   "metadata": {
    "papermill": {
     "duration": 0.007348,
     "end_time": "2023-04-22T08:47:26.537899",
     "exception": false,
     "start_time": "2023-04-22T08:47:26.530551",
     "status": "completed"
    },
    "tags": []
   },
   "source": [
    "# Here we define the tokenizer and our dataset"
   ]
  },
  {
   "cell_type": "code",
   "execution_count": 324,
   "id": "e2063b71",
   "metadata": {
    "execution": {
     "iopub.execute_input": "2023-04-22T08:47:26.554511Z",
     "iopub.status.busy": "2023-04-22T08:47:26.553725Z",
     "iopub.status.idle": "2023-04-22T08:47:27.891107Z",
     "shell.execute_reply": "2023-04-22T08:47:27.890125Z"
    },
    "papermill": {
     "duration": 1.34833,
     "end_time": "2023-04-22T08:47:27.893680",
     "exception": false,
     "start_time": "2023-04-22T08:47:26.545350",
     "status": "completed"
    },
    "tags": []
   },
   "outputs": [],
   "source": [
    "tokenizer = BertTokenizer.from_pretrained('neuralmind/bert-base-portuguese-cased')\n",
    "\n",
    "\n",
    "class Dataset(torch.utils.data.Dataset):\n",
    "\n",
    "    def __init__(self, df):\n",
    "\n",
    "        self.labels = [labels[label] for label in df['intent']]\n",
    "        self.texts = [tokenizer(text, \n",
    "                               padding='max_length', max_length = cfg.max_length, truncation=True,\n",
    "                                return_tensors=\"pt\") for text in df['text']]\n",
    "\n",
    "\n",
    "    def __len__(self):\n",
    "        return len(self.labels)\n",
    "\n",
    "    def get_batch_labels(self, idx):\n",
    "        return np.array(self.labels[idx])\n",
    "\n",
    "    def get_batch_texts(self, idx):\n",
    "        return self.texts[idx]\n",
    "\n",
    "    def __getitem__(self, idx):\n",
    "        batch_texts = self.get_batch_texts(idx)\n",
    "        batch_y = self.get_batch_labels(idx)\n",
    "\n",
    "        return batch_texts, batch_y"
   ]
  },
  {
   "cell_type": "markdown",
   "id": "3eddab66",
   "metadata": {
    "papermill": {
     "duration": 0.007823,
     "end_time": "2023-04-22T08:47:27.909955",
     "exception": false,
     "start_time": "2023-04-22T08:47:27.902132",
     "status": "completed"
    },
    "tags": []
   },
   "source": [
    "# For intent classification , we are going to be using a bert model followed by a linear layer"
   ]
  },
  {
   "cell_type": "code",
   "execution_count": 325,
   "id": "48e17474",
   "metadata": {
    "execution": {
     "iopub.execute_input": "2023-04-22T08:47:27.927695Z",
     "iopub.status.busy": "2023-04-22T08:47:27.927148Z",
     "iopub.status.idle": "2023-04-22T08:47:27.934874Z",
     "shell.execute_reply": "2023-04-22T08:47:27.933941Z"
    },
    "papermill": {
     "duration": 0.01927,
     "end_time": "2023-04-22T08:47:27.937040",
     "exception": false,
     "start_time": "2023-04-22T08:47:27.917770",
     "status": "completed"
    },
    "tags": []
   },
   "outputs": [],
   "source": [
    "class BertClassifier(nn.Module):\n",
    "\n",
    "    def __init__(self, dropout=0.2):\n",
    "\n",
    "        super(BertClassifier, self).__init__()\n",
    "        self.bert = BertModel.from_pretrained('neuralmind/bert-base-portuguese-cased')\n",
    "        self.dropout = nn.Dropout(dropout)\n",
    "        self.linear = nn.Linear(768, cfg.num_classes)\n",
    "\n",
    "    def forward(self, input_id, mask):\n",
    "\n",
    "        _, pooled_output = self.bert(input_ids= input_id, attention_mask=mask,return_dict=False)\n",
    "        dropout_output = self.dropout(pooled_output)\n",
    "        linear_output = self.linear(dropout_output)\n",
    "\n",
    "\n",
    "        return (linear_output)"
   ]
  },
  {
   "cell_type": "markdown",
   "id": "b79936b7",
   "metadata": {
    "papermill": {
     "duration": 0.007837,
     "end_time": "2023-04-22T08:47:27.952882",
     "exception": false,
     "start_time": "2023-04-22T08:47:27.945045",
     "status": "completed"
    },
    "tags": []
   },
   "source": [
    "# Splitting the data into training and validation"
   ]
  },
  {
   "cell_type": "code",
   "execution_count": 326,
   "id": "f9d814ec",
   "metadata": {
    "execution": {
     "iopub.execute_input": "2023-04-22T08:47:27.971414Z",
     "iopub.status.busy": "2023-04-22T08:47:27.970797Z",
     "iopub.status.idle": "2023-04-22T08:47:27.979583Z",
     "shell.execute_reply": "2023-04-22T08:47:27.978524Z"
    },
    "papermill": {
     "duration": 0.020752,
     "end_time": "2023-04-22T08:47:27.982049",
     "exception": false,
     "start_time": "2023-04-22T08:47:27.961297",
     "status": "completed"
    },
    "tags": []
   },
   "outputs": [
    {
     "name": "stdout",
     "output_type": "stream",
     "text": [
      "186 21\n"
     ]
    },
    {
     "name": "stderr",
     "output_type": "stream",
     "text": [
      "/opt/miniconda3/envs/intent/lib/python3.10/site-packages/numpy/_core/fromnumeric.py:57: FutureWarning:\n",
      "\n",
      "'DataFrame.swapaxes' is deprecated and will be removed in a future version. Please use 'DataFrame.transpose' instead.\n",
      "\n"
     ]
    }
   ],
   "source": [
    "df_train, df_val = np.split(df.sample(frac=1, random_state=42), [int(.9*len(df))])\n",
    "\n",
    "print(len(df_train), len(df_val))"
   ]
  },
  {
   "cell_type": "markdown",
   "id": "5a9fd6e7",
   "metadata": {
    "papermill": {
     "duration": 0.008027,
     "end_time": "2023-04-22T08:47:27.998267",
     "exception": false,
     "start_time": "2023-04-22T08:47:27.990240",
     "status": "completed"
    },
    "tags": []
   },
   "source": [
    "# The training and evaluation loop"
   ]
  },
  {
   "cell_type": "code",
   "execution_count": 327,
   "id": "46c7e9cf",
   "metadata": {
    "execution": {
     "iopub.execute_input": "2023-04-22T08:47:28.017062Z",
     "iopub.status.busy": "2023-04-22T08:47:28.016022Z",
     "iopub.status.idle": "2023-04-22T08:47:28.031194Z",
     "shell.execute_reply": "2023-04-22T08:47:28.030042Z"
    },
    "papermill": {
     "duration": 0.026878,
     "end_time": "2023-04-22T08:47:28.033490",
     "exception": false,
     "start_time": "2023-04-22T08:47:28.006612",
     "status": "completed"
    },
    "tags": []
   },
   "outputs": [],
   "source": [
    "def train(model, train_data, val_data, learning_rate, epochs):\n",
    "\n",
    "    train, val = Dataset(train_data), Dataset(val_data)\n",
    "\n",
    "    train_dataloader = torch.utils.data.DataLoader(train, batch_size=cfg.batch_size, shuffle=True)\n",
    "    val_dataloader = torch.utils.data.DataLoader(val, batch_size=cfg.batch_size)\n",
    "\n",
    "    use_cuda = torch.cuda.is_available()\n",
    "    device = torch.device(\"cuda\" if use_cuda else \"cpu\")\n",
    "\n",
    "    criterion = torch.nn.CrossEntropyLoss()\n",
    "    optimizer = Adam(model.parameters(), lr=cfg.lr)\n",
    "\n",
    "    if use_cuda:\n",
    "            model = model.cuda()\n",
    "            criterion = criterion.cuda()\n",
    "            \n",
    "    best_val_loss = float('inf') \n",
    "    for epoch_num in range(epochs):\n",
    "\n",
    "            total_acc_train = 0\n",
    "            total_loss_train = 0\n",
    "\n",
    "            for train_input, train_label in tqdm(train_dataloader):\n",
    "\n",
    "                train_label = train_label.to(device)\n",
    "                mask = train_input['attention_mask'].to(device)\n",
    "                input_id = train_input['input_ids'].squeeze(1).to(device)\n",
    "\n",
    "                output = model(input_id, mask)\n",
    "                batch_loss = criterion(output, train_label.long())\n",
    "                total_loss_train += batch_loss.item()\n",
    "                \n",
    "                \n",
    "                train_label=train_label.to(device)\n",
    "                output=output.to(device)\n",
    "                acc = (output.argmax(dim=1) == train_label).sum().item()\n",
    "                total_acc_train += acc\n",
    "\n",
    "                optimizer.zero_grad()\n",
    "                batch_loss.backward()\n",
    "                optimizer.step()\n",
    "\n",
    "                wandb.log({\"train_loss\": batch_loss.item()})\n",
    "            wandb.log({\"train_accuracy\": total_acc_train / len(train_data)})\n",
    "            total_acc_val = 0\n",
    "            total_loss_val = 0\n",
    "\n",
    "            with torch.no_grad():\n",
    "\n",
    "                for val_input, val_label in val_dataloader:\n",
    "\n",
    "                    val_label = val_label.to(device)\n",
    "                    mask = val_input['attention_mask'].to(device)\n",
    "                    input_id = val_input['input_ids'].squeeze(1).to(device)\n",
    "                    output = model(input_id, mask)\n",
    "\n",
    "                    batch_loss = criterion(output, val_label.long())\n",
    "                    total_loss_val += batch_loss.item()\n",
    "                    \n",
    "                    acc = (output.argmax(dim=1) == val_label).sum().item()\n",
    "                    total_acc_val += acc\n",
    "                wandb.log({\"val_loss\": total_loss_val / len(val_data), \"val_accuracy\": total_acc_val / len(val_data)})\n",
    "            avg_val_loss = total_loss_val / len(val_data)\n",
    "\n",
    "            if avg_val_loss < best_val_loss:  # Verifica se a média da perda atual é a melhor\n",
    "                best_val_loss = avg_val_loss\n",
    "                torch.save(model.state_dict(), 'model_best_val_loss.pth')  # Salva o modelo\n",
    "                print(f\"Checkpoint saved on epoch {epoch_num + 1} with val/loss {best_val_loss:.4f}\")\n",
    "                    \n",
    "            \n",
    "            print(\n",
    "                f'Epochs: {epoch_num + 1} | Train Loss: {total_loss_train / len(train_data): .3f} \\\n",
    "                | Train Accuracy: {total_acc_train / len(train_data): .3f} \\\n",
    "                | Val Loss: {total_loss_val / len(val_data): .3f} \\\n",
    "                | Val Accuracy: {total_acc_val / len(val_data): .3f}')\n",
    "                  \n"
   ]
  },
  {
   "cell_type": "markdown",
   "id": "f72116e9",
   "metadata": {
    "papermill": {
     "duration": 0.007908,
     "end_time": "2023-04-22T08:47:28.049926",
     "exception": false,
     "start_time": "2023-04-22T08:47:28.042018",
     "status": "completed"
    },
    "tags": []
   },
   "source": [
    "### to free up memory"
   ]
  },
  {
   "cell_type": "code",
   "execution_count": 328,
   "id": "bc3fe13a",
   "metadata": {
    "execution": {
     "iopub.execute_input": "2023-04-22T08:47:28.068378Z",
     "iopub.status.busy": "2023-04-22T08:47:28.067348Z",
     "iopub.status.idle": "2023-04-22T08:47:28.273821Z",
     "shell.execute_reply": "2023-04-22T08:47:28.272728Z"
    },
    "papermill": {
     "duration": 0.217995,
     "end_time": "2023-04-22T08:47:28.275933",
     "exception": false,
     "start_time": "2023-04-22T08:47:28.057938",
     "status": "completed"
    },
    "tags": []
   },
   "outputs": [
    {
     "data": {
      "text/plain": [
       "24457"
      ]
     },
     "execution_count": 328,
     "metadata": {},
     "output_type": "execute_result"
    }
   ],
   "source": [
    "gc.collect()"
   ]
  },
  {
   "cell_type": "code",
   "execution_count": 329,
   "id": "5d382be5",
   "metadata": {
    "execution": {
     "iopub.execute_input": "2023-04-22T08:47:28.295090Z",
     "iopub.status.busy": "2023-04-22T08:47:28.293590Z",
     "iopub.status.idle": "2023-04-22T08:47:46.393316Z",
     "shell.execute_reply": "2023-04-22T08:47:46.392097Z"
    },
    "papermill": {
     "duration": 18.111417,
     "end_time": "2023-04-22T08:47:46.395736",
     "exception": false,
     "start_time": "2023-04-22T08:47:28.284319",
     "status": "completed"
    },
    "tags": []
   },
   "outputs": [
    {
     "name": "stderr",
     "output_type": "stream",
     "text": [
      " 11%|█         | 2/19 [00:01<00:13,  1.23it/s]Error during conversion: ChunkedEncodingError(ProtocolError('Response ended prematurely'))\n",
      "100%|██████████| 19/19 [00:10<00:00,  1.85it/s]\n"
     ]
    },
    {
     "name": "stdout",
     "output_type": "stream",
     "text": [
      "Checkpoint saved on epoch 1 with val/loss 0.4685\n",
      "Epochs: 1 | Train Loss:  0.342                 | Train Accuracy:  0.048                 | Val Loss:  0.468                 | Val Accuracy:  0.000\n"
     ]
    },
    {
     "name": "stderr",
     "output_type": "stream",
     "text": [
      "100%|██████████| 19/19 [00:08<00:00,  2.20it/s]\n"
     ]
    },
    {
     "name": "stdout",
     "output_type": "stream",
     "text": [
      "Epochs: 2 | Train Loss:  0.328                 | Train Accuracy:  0.091                 | Val Loss:  0.475                 | Val Accuracy:  0.000\n"
     ]
    },
    {
     "name": "stderr",
     "output_type": "stream",
     "text": [
      "100%|██████████| 19/19 [00:08<00:00,  2.26it/s]\n"
     ]
    },
    {
     "name": "stdout",
     "output_type": "stream",
     "text": [
      "Checkpoint saved on epoch 3 with val/loss 0.4372\n",
      "Epochs: 3 | Train Loss:  0.316                 | Train Accuracy:  0.231                 | Val Loss:  0.437                 | Val Accuracy:  0.238\n"
     ]
    },
    {
     "name": "stderr",
     "output_type": "stream",
     "text": [
      "100%|██████████| 19/19 [00:11<00:00,  1.59it/s]\n"
     ]
    },
    {
     "name": "stdout",
     "output_type": "stream",
     "text": [
      "Checkpoint saved on epoch 4 with val/loss 0.4311\n",
      "Epochs: 4 | Train Loss:  0.300                 | Train Accuracy:  0.366                 | Val Loss:  0.431                 | Val Accuracy:  0.238\n"
     ]
    },
    {
     "name": "stderr",
     "output_type": "stream",
     "text": [
      "100%|██████████| 19/19 [00:10<00:00,  1.88it/s]\n"
     ]
    },
    {
     "name": "stdout",
     "output_type": "stream",
     "text": [
      "Checkpoint saved on epoch 5 with val/loss 0.4136\n",
      "Epochs: 5 | Train Loss:  0.280                 | Train Accuracy:  0.505                 | Val Loss:  0.414                 | Val Accuracy:  0.381\n"
     ]
    },
    {
     "name": "stderr",
     "output_type": "stream",
     "text": [
      "100%|██████████| 19/19 [00:10<00:00,  1.79it/s]\n"
     ]
    },
    {
     "name": "stdout",
     "output_type": "stream",
     "text": [
      "Checkpoint saved on epoch 6 with val/loss 0.4057\n",
      "Epochs: 6 | Train Loss:  0.259                 | Train Accuracy:  0.645                 | Val Loss:  0.406                 | Val Accuracy:  0.429\n"
     ]
    },
    {
     "name": "stderr",
     "output_type": "stream",
     "text": [
      "100%|██████████| 19/19 [00:09<00:00,  2.01it/s]\n"
     ]
    },
    {
     "name": "stdout",
     "output_type": "stream",
     "text": [
      "Checkpoint saved on epoch 7 with val/loss 0.3852\n",
      "Epochs: 7 | Train Loss:  0.236                 | Train Accuracy:  0.747                 | Val Loss:  0.385                 | Val Accuracy:  0.524\n"
     ]
    },
    {
     "name": "stderr",
     "output_type": "stream",
     "text": [
      "100%|██████████| 19/19 [00:10<00:00,  1.89it/s]\n"
     ]
    },
    {
     "name": "stdout",
     "output_type": "stream",
     "text": [
      "Checkpoint saved on epoch 8 with val/loss 0.3656\n",
      "Epochs: 8 | Train Loss:  0.214                 | Train Accuracy:  0.844                 | Val Loss:  0.366                 | Val Accuracy:  0.667\n"
     ]
    },
    {
     "name": "stderr",
     "output_type": "stream",
     "text": [
      "100%|██████████| 19/19 [00:09<00:00,  1.94it/s]\n"
     ]
    },
    {
     "name": "stdout",
     "output_type": "stream",
     "text": [
      "Checkpoint saved on epoch 9 with val/loss 0.3508\n",
      "Epochs: 9 | Train Loss:  0.192                 | Train Accuracy:  0.898                 | Val Loss:  0.351                 | Val Accuracy:  0.667\n"
     ]
    },
    {
     "name": "stderr",
     "output_type": "stream",
     "text": [
      "100%|██████████| 19/19 [00:09<00:00,  1.99it/s]\n"
     ]
    },
    {
     "name": "stdout",
     "output_type": "stream",
     "text": [
      "Checkpoint saved on epoch 10 with val/loss 0.3314\n",
      "Epochs: 10 | Train Loss:  0.170                 | Train Accuracy:  0.935                 | Val Loss:  0.331                 | Val Accuracy:  0.619\n"
     ]
    },
    {
     "name": "stderr",
     "output_type": "stream",
     "text": [
      "100%|██████████| 19/19 [00:09<00:00,  1.97it/s]\n"
     ]
    },
    {
     "name": "stdout",
     "output_type": "stream",
     "text": [
      "Checkpoint saved on epoch 11 with val/loss 0.3088\n",
      "Epochs: 11 | Train Loss:  0.151                 | Train Accuracy:  0.952                 | Val Loss:  0.309                 | Val Accuracy:  0.714\n"
     ]
    },
    {
     "name": "stderr",
     "output_type": "stream",
     "text": [
      "100%|██████████| 19/19 [00:09<00:00,  1.91it/s]\n"
     ]
    },
    {
     "name": "stdout",
     "output_type": "stream",
     "text": [
      "Checkpoint saved on epoch 12 with val/loss 0.2982\n",
      "Epochs: 12 | Train Loss:  0.135                 | Train Accuracy:  0.952                 | Val Loss:  0.298                 | Val Accuracy:  0.667\n"
     ]
    },
    {
     "name": "stderr",
     "output_type": "stream",
     "text": [
      "100%|██████████| 19/19 [00:09<00:00,  1.95it/s]\n"
     ]
    },
    {
     "name": "stdout",
     "output_type": "stream",
     "text": [
      "Checkpoint saved on epoch 13 with val/loss 0.2884\n",
      "Epochs: 13 | Train Loss:  0.119                 | Train Accuracy:  0.973                 | Val Loss:  0.288                 | Val Accuracy:  0.762\n"
     ]
    },
    {
     "name": "stderr",
     "output_type": "stream",
     "text": [
      "100%|██████████| 19/19 [00:09<00:00,  1.93it/s]\n"
     ]
    },
    {
     "name": "stdout",
     "output_type": "stream",
     "text": [
      "Checkpoint saved on epoch 14 with val/loss 0.2764\n",
      "Epochs: 14 | Train Loss:  0.107                 | Train Accuracy:  0.984                 | Val Loss:  0.276                 | Val Accuracy:  0.714\n"
     ]
    },
    {
     "name": "stderr",
     "output_type": "stream",
     "text": [
      "100%|██████████| 19/19 [00:08<00:00,  2.15it/s]\n"
     ]
    },
    {
     "name": "stdout",
     "output_type": "stream",
     "text": [
      "Checkpoint saved on epoch 15 with val/loss 0.2666\n",
      "Epochs: 15 | Train Loss:  0.094                 | Train Accuracy:  0.995                 | Val Loss:  0.267                 | Val Accuracy:  0.714\n"
     ]
    },
    {
     "name": "stderr",
     "output_type": "stream",
     "text": [
      "100%|██████████| 19/19 [00:09<00:00,  1.96it/s]\n"
     ]
    },
    {
     "name": "stdout",
     "output_type": "stream",
     "text": [
      "Checkpoint saved on epoch 16 with val/loss 0.2578\n",
      "Epochs: 16 | Train Loss:  0.084                 | Train Accuracy:  0.995                 | Val Loss:  0.258                 | Val Accuracy:  0.762\n"
     ]
    },
    {
     "name": "stderr",
     "output_type": "stream",
     "text": [
      "100%|██████████| 19/19 [00:09<00:00,  2.07it/s]\n"
     ]
    },
    {
     "name": "stdout",
     "output_type": "stream",
     "text": [
      "Checkpoint saved on epoch 17 with val/loss 0.2528\n",
      "Epochs: 17 | Train Loss:  0.076                 | Train Accuracy:  0.989                 | Val Loss:  0.253                 | Val Accuracy:  0.810\n"
     ]
    },
    {
     "name": "stderr",
     "output_type": "stream",
     "text": [
      "100%|██████████| 19/19 [00:09<00:00,  2.11it/s]\n"
     ]
    },
    {
     "name": "stdout",
     "output_type": "stream",
     "text": [
      "Checkpoint saved on epoch 18 with val/loss 0.2311\n",
      "Epochs: 18 | Train Loss:  0.068                 | Train Accuracy:  0.995                 | Val Loss:  0.231                 | Val Accuracy:  0.810\n"
     ]
    },
    {
     "name": "stderr",
     "output_type": "stream",
     "text": [
      "100%|██████████| 19/19 [00:09<00:00,  2.06it/s]\n"
     ]
    },
    {
     "name": "stdout",
     "output_type": "stream",
     "text": [
      "Checkpoint saved on epoch 19 with val/loss 0.2227\n",
      "Epochs: 19 | Train Loss:  0.061                 | Train Accuracy:  1.000                 | Val Loss:  0.223                 | Val Accuracy:  0.810\n"
     ]
    },
    {
     "name": "stderr",
     "output_type": "stream",
     "text": [
      "100%|██████████| 19/19 [00:10<00:00,  1.89it/s]\n"
     ]
    },
    {
     "name": "stdout",
     "output_type": "stream",
     "text": [
      "Epochs: 20 | Train Loss:  0.055                 | Train Accuracy:  1.000                 | Val Loss:  0.229                 | Val Accuracy:  0.810\n"
     ]
    }
   ],
   "source": [
    "EPOCHS = cfg.epochs\n",
    "model = BertClassifier()\n",
    "LR = cfg.lr\n",
    "              \n",
    "train(model, df_train, df_val, LR, EPOCHS)"
   ]
  },
  {
   "cell_type": "code",
   "execution_count": 330,
   "id": "529d5420",
   "metadata": {},
   "outputs": [
    {
     "data": {
      "text/html": [
       "<style>\n",
       "    table.wandb td:nth-child(1) { padding: 0 10px; text-align: left ; width: auto;} td:nth-child(2) {text-align: left ; width: 100%}\n",
       "    .wandb-row { display: flex; flex-direction: row; flex-wrap: wrap; justify-content: flex-start; width: 100% }\n",
       "    .wandb-col { display: flex; flex-direction: column; flex-basis: 100%; flex: 1; padding: 10px; }\n",
       "    </style>\n",
       "<div class=\"wandb-row\"><div class=\"wandb-col\"><h3>Run history:</h3><br/><table class=\"wandb\"><tr><td>train_accuracy</td><td>▁▁▂▃▄▅▆▇▇███████████</td></tr><tr><td>train_loss</td><td>█████▇▇█▇▇▇▇▆▅▆▆▅▆▅▅▄▄▄▃▃▃▃▃▃▃▃▁▂▂▂▂▁▁▁▁</td></tr><tr><td>val_accuracy</td><td>▁▁▃▃▄▅▆▇▇▆▇▇█▇▇█████</td></tr><tr><td>val_loss</td><td>██▇▇▆▆▆▅▅▄▃▃▃▂▂▂▂▁▁▁</td></tr></table><br/></div><div class=\"wandb-col\"><h3>Run summary:</h3><br/><table class=\"wandb\"><tr><td>train_accuracy</td><td>1</td></tr><tr><td>train_loss</td><td>0.3334</td></tr><tr><td>val_accuracy</td><td>0.80952</td></tr><tr><td>val_loss</td><td>0.22857</td></tr></table><br/></div></div>"
      ],
      "text/plain": [
       "<IPython.core.display.HTML object>"
      ]
     },
     "metadata": {},
     "output_type": "display_data"
    },
    {
     "data": {
      "text/html": [
       " View run <strong style=\"color:#cdcd00\">vivid-blossom-12</strong> at: <a href='https://wandb.ai/tail_joka/intent_recognition/runs/o4imfx37' target=\"_blank\">https://wandb.ai/tail_joka/intent_recognition/runs/o4imfx37</a><br/> View project at: <a href='https://wandb.ai/tail_joka/intent_recognition' target=\"_blank\">https://wandb.ai/tail_joka/intent_recognition</a><br/>Synced 5 W&B file(s), 0 media file(s), 0 artifact file(s) and 0 other file(s)"
      ],
      "text/plain": [
       "<IPython.core.display.HTML object>"
      ]
     },
     "metadata": {},
     "output_type": "display_data"
    },
    {
     "data": {
      "text/html": [
       "Find logs at: <code>./wandb/run-20241101_142337-o4imfx37/logs</code>"
      ],
      "text/plain": [
       "<IPython.core.display.HTML object>"
      ]
     },
     "metadata": {},
     "output_type": "display_data"
    }
   ],
   "source": [
    "wandb.finish()"
   ]
  },
  {
   "cell_type": "code",
   "execution_count": 331,
   "id": "7321efd9",
   "metadata": {},
   "outputs": [],
   "source": [
    "# O caminho para o arquivo JSON que será criado\n",
    "filepath = 'data/labels.json'\n",
    "\n",
    "# Abrindo o arquivo para escrita ('w') e salvando o dicionário usando json.dump\n",
    "with open(filepath, 'w', encoding='utf-8') as f:\n",
    "    json.dump(labels, f, ensure_ascii=False, indent=4)"
   ]
  },
  {
   "cell_type": "markdown",
   "id": "f6677350",
   "metadata": {},
   "source": [
    "# Evaluating on test set"
   ]
  },
  {
   "cell_type": "code",
   "execution_count": 336,
   "id": "5e755780",
   "metadata": {},
   "outputs": [
    {
     "name": "stderr",
     "output_type": "stream",
     "text": [
      "/var/folders/qc/40cp3vzn26dgkntppc0jv9tc0000gn/T/ipykernel_12649/150644189.py:4: FutureWarning:\n",
      "\n",
      "You are using `torch.load` with `weights_only=False` (the current default value), which uses the default pickle module implicitly. It is possible to construct malicious pickle data which will execute arbitrary code during unpickling (See https://github.com/pytorch/pytorch/blob/main/SECURITY.md#untrusted-models for more details). In a future release, the default value for `weights_only` will be flipped to `True`. This limits the functions that could be executed during unpickling. Arbitrary objects will no longer be allowed to be loaded via this mode unless they are explicitly allowlisted by the user via `torch.serialization.add_safe_globals`. We recommend you start setting `weights_only=True` for any use case where you don't have full control of the loaded file. Please open an issue on GitHub for any issues related to this experimental feature.\n",
      "\n"
     ]
    }
   ],
   "source": [
    "checkpoint_path = 'checkpoints/model_best_val_loss_28.pth'\n",
    "use_cuda = torch.cuda.is_available()\n",
    "device = torch.device(\"cuda\" if use_cuda else \"cpu\")\n",
    "model.load_state_dict(torch.load(checkpoint_path, map_location=device))\n",
    "model = model.to(device)"
   ]
  },
  {
   "cell_type": "code",
   "execution_count": 337,
   "id": "2d2bfc27",
   "metadata": {},
   "outputs": [],
   "source": [
    "def evaluate(model, dataloader):\n",
    "    model.eval()\n",
    "    \n",
    "    predictions = []\n",
    "    true_labels = []\n",
    "    device = torch.device(\"cuda\" if torch.cuda.is_available() else \"cpu\")\n",
    "    model.to(device)\n",
    "\n",
    "    with torch.no_grad():\n",
    "        for inputs, labels in dataloader:\n",
    "            inputs = inputs.to(device)\n",
    "            labels = labels.to(device)\n",
    "            mask = inputs['attention_mask'].to(device)\n",
    "            input_id = inputs['input_ids'].squeeze(1).to(device)\n",
    "            outputs = model(input_id,mask)  # Supondo que sua saída do modelo são logits.\n",
    "\n",
    "            # Para modelos de classificação, assumimos uma saída softmax.\n",
    "            probs = torch.nn.functional.softmax(outputs, dim=1)\n",
    "            predicted_labels = torch.argmax(probs, dim=1)\n",
    "\n",
    "            predictions.extend(predicted_labels.cpu().numpy())\n",
    "            true_labels.extend(labels.cpu().numpy())\n",
    "\n",
    "    return true_labels, predictions"
   ]
  },
  {
   "cell_type": "code",
   "execution_count": 338,
   "id": "da4f4287",
   "metadata": {},
   "outputs": [],
   "source": [
    "test = Dataset(test_patterns)\n",
    "test_dataloader = torch.utils.data.DataLoader(test, batch_size=32, shuffle=False) "
   ]
  },
  {
   "cell_type": "code",
   "execution_count": 339,
   "id": "04949d87",
   "metadata": {},
   "outputs": [
    {
     "name": "stdout",
     "output_type": "stream",
     "text": [
      "                          precision    recall  f1-score   support\n",
      "\n",
      "           FazerDenuncia       0.56      1.00      0.71         5\n",
      "    ConsultaEntendimento       0.00      0.00      0.00         5\n",
      "    DespedidaComCortesia       0.50      1.00      0.67         5\n",
      " InformacaoDeHorarioData       1.00      1.00      1.00         5\n",
      "                Fallback       0.40      0.80      0.53         5\n",
      "RespostaSaudaçãoCortesia       0.43      0.60      0.50         5\n",
      "  ConsultaUltimosIntents       1.00      1.00      1.00         5\n",
      "                Saudação       0.00      0.00      0.00         5\n",
      "         Autoconsciência       0.83      1.00      0.91         5\n",
      "               Caladinho       1.00      0.80      0.89         5\n",
      "   ConsultaDialogueState       1.00      1.00      1.00         5\n",
      "                  Piadas       0.56      1.00      0.71         5\n",
      "        SaudaçãoCortesia       0.25      0.40      0.31         5\n",
      "           PedidoDeAjuda       0.67      0.80      0.73         5\n",
      " NãoEstavaFalandoComVocê       0.75      0.60      0.67         5\n",
      "                   Adeus       0.00      0.00      0.00         5\n",
      "     ConsultaHumanoAtual       0.38      1.00      0.56         5\n",
      "        ConsultaNomeReal       0.80      0.80      0.80         5\n",
      "            ConsultaHora       1.00      1.00      1.00         5\n",
      "        RespostaSaudação       0.80      0.80      0.80         5\n",
      "RecebimentoDeLocalizacao       1.00      1.00      1.00         5\n",
      "             Inteligente       0.80      0.80      0.80         5\n",
      "          Agradecimentos       1.00      0.20      0.33         5\n",
      "            ConsultaNome       0.40      0.40      0.40         5\n",
      "                  Fofoca       1.00      0.20      0.33         5\n",
      "               QuemSouEu       0.00      0.00      0.00         5\n",
      "               Palavrões       1.00      0.60      0.75         5\n",
      "   AnuncioDeMedoOuPerigo       1.00      0.60      0.75         5\n",
      "\n",
      "                accuracy                           0.66       140\n",
      "               macro avg       0.65      0.66      0.61       140\n",
      "            weighted avg       0.65      0.66      0.61       140\n",
      "\n"
     ]
    },
    {
     "name": "stderr",
     "output_type": "stream",
     "text": [
      "/opt/miniconda3/envs/intent/lib/python3.10/site-packages/sklearn/metrics/_classification.py:1531: UndefinedMetricWarning:\n",
      "\n",
      "Precision is ill-defined and being set to 0.0 in labels with no predicted samples. Use `zero_division` parameter to control this behavior.\n",
      "\n",
      "/opt/miniconda3/envs/intent/lib/python3.10/site-packages/sklearn/metrics/_classification.py:1531: UndefinedMetricWarning:\n",
      "\n",
      "Precision is ill-defined and being set to 0.0 in labels with no predicted samples. Use `zero_division` parameter to control this behavior.\n",
      "\n",
      "/opt/miniconda3/envs/intent/lib/python3.10/site-packages/sklearn/metrics/_classification.py:1531: UndefinedMetricWarning:\n",
      "\n",
      "Precision is ill-defined and being set to 0.0 in labels with no predicted samples. Use `zero_division` parameter to control this behavior.\n",
      "\n"
     ]
    }
   ],
   "source": [
    "true_labels, predictions = evaluate(model, test_dataloader)\n",
    "\n",
    "# Gerar relatório de classificação\n",
    "report = classification_report(true_labels, predictions, target_names=labels)\n",
    "print(report)"
   ]
  },
  {
   "cell_type": "code",
   "execution_count": 340,
   "id": "1fcd112e",
   "metadata": {},
   "outputs": [],
   "source": [
    "cm = confusion_matrix(true_labels, predictions)"
   ]
  },
  {
   "cell_type": "code",
   "execution_count": 341,
   "id": "9331dfa5",
   "metadata": {},
   "outputs": [],
   "source": [
    "labels_names = list(labels.keys())"
   ]
  },
  {
   "cell_type": "code",
   "execution_count": 342,
   "id": "d4293c74",
   "metadata": {},
   "outputs": [],
   "source": [
    "labels_cm = [str(i) for i in range(1, cm.shape[0] + 1)]\n",
    "fig = ff.create_annotated_heatmap(z=cm, x=labels_names, y=labels_names, colorscale='Viridis', \n",
    "                                   annotation_text=cm.astype(str), showscale=True)\n",
    "fig.update_layout(title_text='Matriz de Confusão', xaxis=dict(title='Previsão'), yaxis=dict(title='Real'), yaxis_autorange='reversed')\n",
    "\n",
    "fig.write_html('cm.html')"
   ]
  },
  {
   "cell_type": "markdown",
   "id": "2861a063",
   "metadata": {
    "papermill": {
     "duration": 0.014373,
     "end_time": "2023-04-22T08:47:46.425013",
     "exception": false,
     "start_time": "2023-04-22T08:47:46.410640",
     "status": "completed"
    },
    "tags": []
   },
   "source": [
    "# Predicting ouput for a given text"
   ]
  },
  {
   "cell_type": "code",
   "execution_count": 343,
   "id": "c0d0d439",
   "metadata": {
    "execution": {
     "iopub.execute_input": "2023-04-22T08:47:46.456445Z",
     "iopub.status.busy": "2023-04-22T08:47:46.455684Z",
     "iopub.status.idle": "2023-04-22T08:47:46.462705Z",
     "shell.execute_reply": "2023-04-22T08:47:46.461626Z"
    },
    "papermill": {
     "duration": 0.025274,
     "end_time": "2023-04-22T08:47:46.464990",
     "exception": false,
     "start_time": "2023-04-22T08:47:46.439716",
     "status": "completed"
    },
    "tags": []
   },
   "outputs": [],
   "source": [
    "def predict(model, text):\n",
    "    print(text)\n",
    "    text_dict = tokenizer(text, padding='max_length', max_length = cfg.max_length, truncation=True, return_tensors=\"pt\")\n",
    "    use_cuda = torch.cuda.is_available()\n",
    "    device = torch.device(\"cuda\" if use_cuda else \"cpu\")\n",
    "    model = model.to(device)\n",
    "    mask = text_dict['attention_mask'].to(device)\n",
    "    input_id = text_dict['input_ids'].squeeze(1).to(device)\n",
    "        \n",
    "    with torch.no_grad():\n",
    "        output = model(input_id, mask)\n",
    "        \n",
    "        # Aplica softmax para converter logits em probabilidades\n",
    "        probabilities = F.softmax(output, dim=1)\n",
    "        \n",
    "        # Encontra o índice (id da classe) com a maior probabilidade\n",
    "        label_id = probabilities.argmax(dim=1).item()\n",
    "        \n",
    "        # Obtem a probabilidade máxima (associada à classe predita)\n",
    "        max_prob = probabilities.max(dim=1).values.item()\n",
    "\n",
    "        return label_id, max_prob, probabilities\n"
   ]
  },
  {
   "cell_type": "code",
   "execution_count": 358,
   "id": "0eca124c",
   "metadata": {
    "execution": {
     "iopub.execute_input": "2023-04-22T08:47:46.497609Z",
     "iopub.status.busy": "2023-04-22T08:47:46.497030Z",
     "iopub.status.idle": "2023-04-22T08:47:46.523858Z",
     "shell.execute_reply": "2023-04-22T08:47:46.522903Z"
    },
    "papermill": {
     "duration": 0.045023,
     "end_time": "2023-04-22T08:47:46.526117",
     "exception": false,
     "start_time": "2023-04-22T08:47:46.481094",
     "status": "completed"
    },
    "tags": []
   },
   "outputs": [
    {
     "name": "stdout",
     "output_type": "stream",
     "text": [
      "Você é mais esperto do que eu pensava\n"
     ]
    }
   ],
   "source": [
    "model.eval()\n",
    "prediction, max_prob, output=predict(model, text=test_patterns[test_patterns[\"intent\"] == \"Inteligente\"][\"text\"].iloc[3])"
   ]
  },
  {
   "cell_type": "code",
   "execution_count": 359,
   "id": "fbaa50f5",
   "metadata": {},
   "outputs": [
    {
     "data": {
      "text/plain": [
       "tensor([[0.0212, 0.0524, 0.0336, 0.0156, 0.0312, 0.0246, 0.0154, 0.0200, 0.0412,\n",
       "         0.0338, 0.0255, 0.0215, 0.0230, 0.0228, 0.0432, 0.0216, 0.0327, 0.0312,\n",
       "         0.0172, 0.0218, 0.0161, 0.2709, 0.0207, 0.0269, 0.0182, 0.0232, 0.0221,\n",
       "         0.0526]])"
      ]
     },
     "execution_count": 359,
     "metadata": {},
     "output_type": "execute_result"
    }
   ],
   "source": [
    "output"
   ]
  },
  {
   "cell_type": "code",
   "execution_count": 360,
   "id": "5ec22a63",
   "metadata": {},
   "outputs": [
    {
     "data": {
      "text/plain": [
       "0.27090057730674744"
      ]
     },
     "execution_count": 360,
     "metadata": {},
     "output_type": "execute_result"
    }
   ],
   "source": [
    "max_prob"
   ]
  },
  {
   "cell_type": "code",
   "execution_count": 361,
   "id": "79b6679e",
   "metadata": {},
   "outputs": [
    {
     "data": {
      "text/plain": [
       "21"
      ]
     },
     "execution_count": 361,
     "metadata": {},
     "output_type": "execute_result"
    }
   ],
   "source": [
    "prediction"
   ]
  },
  {
   "cell_type": "code",
   "execution_count": 362,
   "id": "833f2dd3",
   "metadata": {
    "execution": {
     "iopub.execute_input": "2023-04-22T08:47:46.559232Z",
     "iopub.status.busy": "2023-04-22T08:47:46.558171Z",
     "iopub.status.idle": "2023-04-22T08:47:46.564961Z",
     "shell.execute_reply": "2023-04-22T08:47:46.563545Z"
    },
    "papermill": {
     "duration": 0.025143,
     "end_time": "2023-04-22T08:47:46.567069",
     "exception": false,
     "start_time": "2023-04-22T08:47:46.541926",
     "status": "completed"
    },
    "tags": []
   },
   "outputs": [
    {
     "name": "stdout",
     "output_type": "stream",
     "text": [
      "The intent of the given text is Inteligente\n"
     ]
    }
   ],
   "source": [
    "for i in labels:\n",
    "    if labels[i]==prediction:\n",
    "        print(f\"The intent of the given text is {i}\")\n",
    "        intent=i"
   ]
  },
  {
   "cell_type": "markdown",
   "id": "9d05f75b",
   "metadata": {
    "papermill": {
     "duration": 0.014911,
     "end_time": "2023-04-22T08:47:46.597053",
     "exception": false,
     "start_time": "2023-04-22T08:47:46.582142",
     "status": "completed"
    },
    "tags": []
   },
   "source": [
    "# Here we will generate a random response based on the intent"
   ]
  },
  {
   "cell_type": "code",
   "execution_count": 363,
   "id": "23d9101c",
   "metadata": {
    "execution": {
     "iopub.execute_input": "2023-04-22T08:47:46.629166Z",
     "iopub.status.busy": "2023-04-22T08:47:46.628111Z",
     "iopub.status.idle": "2023-04-22T08:47:46.637641Z",
     "shell.execute_reply": "2023-04-22T08:47:46.636626Z"
    },
    "papermill": {
     "duration": 0.028133,
     "end_time": "2023-04-22T08:47:46.639857",
     "exception": false,
     "start_time": "2023-04-22T08:47:46.611724",
     "status": "completed"
    },
    "tags": []
   },
   "outputs": [],
   "source": [
    "responses=df_responses.explode('responses')\n",
    "responses=responses[responses['intent']==intent]"
   ]
  },
  {
   "cell_type": "markdown",
   "id": "65e0a1b6",
   "metadata": {
    "papermill": {
     "duration": 0.014153,
     "end_time": "2023-04-22T08:47:46.668719",
     "exception": false,
     "start_time": "2023-04-22T08:47:46.654566",
     "status": "completed"
    },
    "tags": []
   },
   "source": [
    "## Lets generate a random integer number from 0 to len(responses)"
   ]
  },
  {
   "cell_type": "code",
   "execution_count": 364,
   "id": "0fc0eea0",
   "metadata": {
    "execution": {
     "iopub.execute_input": "2023-04-22T08:47:46.699791Z",
     "iopub.status.busy": "2023-04-22T08:47:46.698610Z",
     "iopub.status.idle": "2023-04-22T08:47:46.708804Z",
     "shell.execute_reply": "2023-04-22T08:47:46.707706Z"
    },
    "papermill": {
     "duration": 0.027976,
     "end_time": "2023-04-22T08:47:46.710925",
     "exception": false,
     "start_time": "2023-04-22T08:47:46.682949",
     "status": "completed"
    },
    "tags": []
   },
   "outputs": [
    {
     "data": {
      "text/html": [
       "<div>\n",
       "<style scoped>\n",
       "    .dataframe tbody tr th:only-of-type {\n",
       "        vertical-align: middle;\n",
       "    }\n",
       "\n",
       "    .dataframe tbody tr th {\n",
       "        vertical-align: top;\n",
       "    }\n",
       "\n",
       "    .dataframe thead th {\n",
       "        text-align: right;\n",
       "    }\n",
       "</style>\n",
       "<table border=\"1\" class=\"dataframe\">\n",
       "  <thead>\n",
       "    <tr style=\"text-align: right;\">\n",
       "      <th></th>\n",
       "      <th>responses</th>\n",
       "      <th>intent</th>\n",
       "    </tr>\n",
       "  </thead>\n",
       "  <tbody>\n",
       "    <tr>\n",
       "      <th>16</th>\n",
       "      <td>Obrigado, fui treinado dessa forma</td>\n",
       "      <td>Inteligente</td>\n",
       "    </tr>\n",
       "    <tr>\n",
       "      <th>16</th>\n",
       "      <td>Fui bem treinado</td>\n",
       "      <td>Inteligente</td>\n",
       "    </tr>\n",
       "    <tr>\n",
       "      <th>16</th>\n",
       "      <td>Obrigado, fui treinado assim</td>\n",
       "      <td>Inteligente</td>\n",
       "    </tr>\n",
       "  </tbody>\n",
       "</table>\n",
       "</div>"
      ],
      "text/plain": [
       "                             responses       intent\n",
       "16  Obrigado, fui treinado dessa forma  Inteligente\n",
       "16                    Fui bem treinado  Inteligente\n",
       "16        Obrigado, fui treinado assim  Inteligente"
      ]
     },
     "execution_count": 364,
     "metadata": {},
     "output_type": "execute_result"
    }
   ],
   "source": [
    "responses"
   ]
  }
 ],
 "metadata": {
  "kernelspec": {
   "display_name": "intent",
   "language": "python",
   "name": "python3"
  },
  "language_info": {
   "codemirror_mode": {
    "name": "ipython",
    "version": 3
   },
   "file_extension": ".py",
   "mimetype": "text/x-python",
   "name": "python",
   "nbconvert_exporter": "python",
   "pygments_lexer": "ipython3",
   "version": "3.10.15"
  },
  "papermill": {
   "default_parameters": {},
   "duration": 37.714878,
   "end_time": "2023-04-22T08:47:49.195513",
   "environment_variables": {},
   "exception": true,
   "input_path": "__notebook__.ipynb",
   "output_path": "__notebook__.ipynb",
   "parameters": {},
   "start_time": "2023-04-22T08:47:11.480635",
   "version": "2.4.0"
  },
  "widgets": {
   "application/vnd.jupyter.widget-state+json": {
    "state": {
     "023267be02724a17b309ea497805e018": {
      "model_module": "@jupyter-widgets/base",
      "model_module_version": "1.2.0",
      "model_name": "LayoutModel",
      "state": {
       "_model_module": "@jupyter-widgets/base",
       "_model_module_version": "1.2.0",
       "_model_name": "LayoutModel",
       "_view_count": null,
       "_view_module": "@jupyter-widgets/base",
       "_view_module_version": "1.2.0",
       "_view_name": "LayoutView",
       "align_content": null,
       "align_items": null,
       "align_self": null,
       "border": null,
       "bottom": null,
       "display": null,
       "flex": null,
       "flex_flow": null,
       "grid_area": null,
       "grid_auto_columns": null,
       "grid_auto_flow": null,
       "grid_auto_rows": null,
       "grid_column": null,
       "grid_gap": null,
       "grid_row": null,
       "grid_template_areas": null,
       "grid_template_columns": null,
       "grid_template_rows": null,
       "height": null,
       "justify_content": null,
       "justify_items": null,
       "left": null,
       "margin": null,
       "max_height": null,
       "max_width": null,
       "min_height": null,
       "min_width": null,
       "object_fit": null,
       "object_position": null,
       "order": null,
       "overflow": null,
       "overflow_x": null,
       "overflow_y": null,
       "padding": null,
       "right": null,
       "top": null,
       "visibility": null,
       "width": null
      }
     },
     "063211e56d7649c185d6f3835746e7f9": {
      "model_module": "@jupyter-widgets/controls",
      "model_module_version": "1.5.0",
      "model_name": "HTMLModel",
      "state": {
       "_dom_classes": [],
       "_model_module": "@jupyter-widgets/controls",
       "_model_module_version": "1.5.0",
       "_model_name": "HTMLModel",
       "_view_count": null,
       "_view_module": "@jupyter-widgets/controls",
       "_view_module_version": "1.5.0",
       "_view_name": "HTMLView",
       "description": "",
       "description_tooltip": null,
       "layout": "IPY_MODEL_398a3880dcf244379b597388e811f190",
       "placeholder": "​",
       "style": "IPY_MODEL_855e61d54f7e4dd7b3a0665e48bef8f2",
       "value": "Downloading (…)okenizer_config.json: 100%"
      }
     },
     "07caecd4620d47a18213e3db738f3ff7": {
      "model_module": "@jupyter-widgets/controls",
      "model_module_version": "1.5.0",
      "model_name": "FloatProgressModel",
      "state": {
       "_dom_classes": [],
       "_model_module": "@jupyter-widgets/controls",
       "_model_module_version": "1.5.0",
       "_model_name": "FloatProgressModel",
       "_view_count": null,
       "_view_module": "@jupyter-widgets/controls",
       "_view_module_version": "1.5.0",
       "_view_name": "ProgressView",
       "bar_style": "success",
       "description": "",
       "description_tooltip": null,
       "layout": "IPY_MODEL_eae9ae027772405788e1eb76583d5571",
       "max": 213450,
       "min": 0,
       "orientation": "horizontal",
       "style": "IPY_MODEL_53b01191cde24da1bf08a3f30552020a",
       "value": 213450
      }
     },
     "08f20a08ad79470383841a857ccd7f07": {
      "model_module": "@jupyter-widgets/controls",
      "model_module_version": "1.5.0",
      "model_name": "HTMLModel",
      "state": {
       "_dom_classes": [],
       "_model_module": "@jupyter-widgets/controls",
       "_model_module_version": "1.5.0",
       "_model_name": "HTMLModel",
       "_view_count": null,
       "_view_module": "@jupyter-widgets/controls",
       "_view_module_version": "1.5.0",
       "_view_name": "HTMLView",
       "description": "",
       "description_tooltip": null,
       "layout": "IPY_MODEL_023267be02724a17b309ea497805e018",
       "placeholder": "​",
       "style": "IPY_MODEL_b0a5d855309840fcb635e2be604b3d32",
       "value": " 29.0/29.0 [00:00&lt;00:00, 1.14kB/s]"
      }
     },
     "0d6d4e2c4b754b109abaf65027a16049": {
      "model_module": "@jupyter-widgets/base",
      "model_module_version": "1.2.0",
      "model_name": "LayoutModel",
      "state": {
       "_model_module": "@jupyter-widgets/base",
       "_model_module_version": "1.2.0",
       "_model_name": "LayoutModel",
       "_view_count": null,
       "_view_module": "@jupyter-widgets/base",
       "_view_module_version": "1.2.0",
       "_view_name": "LayoutView",
       "align_content": null,
       "align_items": null,
       "align_self": null,
       "border": null,
       "bottom": null,
       "display": null,
       "flex": null,
       "flex_flow": null,
       "grid_area": null,
       "grid_auto_columns": null,
       "grid_auto_flow": null,
       "grid_auto_rows": null,
       "grid_column": null,
       "grid_gap": null,
       "grid_row": null,
       "grid_template_areas": null,
       "grid_template_columns": null,
       "grid_template_rows": null,
       "height": null,
       "justify_content": null,
       "justify_items": null,
       "left": null,
       "margin": null,
       "max_height": null,
       "max_width": null,
       "min_height": null,
       "min_width": null,
       "object_fit": null,
       "object_position": null,
       "order": null,
       "overflow": null,
       "overflow_x": null,
       "overflow_y": null,
       "padding": null,
       "right": null,
       "top": null,
       "visibility": null,
       "width": null
      }
     },
     "195dd4334a1d4b039c6d0453f0f5c106": {
      "model_module": "@jupyter-widgets/controls",
      "model_module_version": "1.5.0",
      "model_name": "FloatProgressModel",
      "state": {
       "_dom_classes": [],
       "_model_module": "@jupyter-widgets/controls",
       "_model_module_version": "1.5.0",
       "_model_name": "FloatProgressModel",
       "_view_count": null,
       "_view_module": "@jupyter-widgets/controls",
       "_view_module_version": "1.5.0",
       "_view_name": "ProgressView",
       "bar_style": "success",
       "description": "",
       "description_tooltip": null,
       "layout": "IPY_MODEL_e0fe39e87ebb4de5ba8255af823a2fd1",
       "max": 435779157,
       "min": 0,
       "orientation": "horizontal",
       "style": "IPY_MODEL_737af1b43aab4d63b570da104e6c9e92",
       "value": 435779157
      }
     },
     "219077d2ebe74171aa5a539d403018c8": {
      "model_module": "@jupyter-widgets/controls",
      "model_module_version": "1.5.0",
      "model_name": "DescriptionStyleModel",
      "state": {
       "_model_module": "@jupyter-widgets/controls",
       "_model_module_version": "1.5.0",
       "_model_name": "DescriptionStyleModel",
       "_view_count": null,
       "_view_module": "@jupyter-widgets/base",
       "_view_module_version": "1.2.0",
       "_view_name": "StyleView",
       "description_width": ""
      }
     },
     "27cfd94a09114a0182e505649b181217": {
      "model_module": "@jupyter-widgets/controls",
      "model_module_version": "1.5.0",
      "model_name": "HTMLModel",
      "state": {
       "_dom_classes": [],
       "_model_module": "@jupyter-widgets/controls",
       "_model_module_version": "1.5.0",
       "_model_name": "HTMLModel",
       "_view_count": null,
       "_view_module": "@jupyter-widgets/controls",
       "_view_module_version": "1.5.0",
       "_view_name": "HTMLView",
       "description": "",
       "description_tooltip": null,
       "layout": "IPY_MODEL_b3251161bf3b4f58a1798fbf5b6c75ea",
       "placeholder": "​",
       "style": "IPY_MODEL_4a4b659ccc5c41f88646411a5345d757",
       "value": " 213k/213k [00:00&lt;00:00, 4.70MB/s]"
      }
     },
     "2a56072f289449c388690b542ad8aa37": {
      "model_module": "@jupyter-widgets/controls",
      "model_module_version": "1.5.0",
      "model_name": "FloatProgressModel",
      "state": {
       "_dom_classes": [],
       "_model_module": "@jupyter-widgets/controls",
       "_model_module_version": "1.5.0",
       "_model_name": "FloatProgressModel",
       "_view_count": null,
       "_view_module": "@jupyter-widgets/controls",
       "_view_module_version": "1.5.0",
       "_view_name": "ProgressView",
       "bar_style": "success",
       "description": "",
       "description_tooltip": null,
       "layout": "IPY_MODEL_ed8725728e6b43e89f9b0fb728dbf53a",
       "max": 570,
       "min": 0,
       "orientation": "horizontal",
       "style": "IPY_MODEL_c603c400cef24bfeb0ee9d597ecbef19",
       "value": 570
      }
     },
     "32eab628424f45318e803e0836c3c322": {
      "model_module": "@jupyter-widgets/controls",
      "model_module_version": "1.5.0",
      "model_name": "HTMLModel",
      "state": {
       "_dom_classes": [],
       "_model_module": "@jupyter-widgets/controls",
       "_model_module_version": "1.5.0",
       "_model_name": "HTMLModel",
       "_view_count": null,
       "_view_module": "@jupyter-widgets/controls",
       "_view_module_version": "1.5.0",
       "_view_name": "HTMLView",
       "description": "",
       "description_tooltip": null,
       "layout": "IPY_MODEL_fa8a1ca49b6043b9a1340d53d2322d36",
       "placeholder": "​",
       "style": "IPY_MODEL_ef8dfd2e55cc47c7a461db854193ffa4",
       "value": " 570/570 [00:00&lt;00:00, 26.7kB/s]"
      }
     },
     "36585ac65aa94720bd9309977de258de": {
      "model_module": "@jupyter-widgets/base",
      "model_module_version": "1.2.0",
      "model_name": "LayoutModel",
      "state": {
       "_model_module": "@jupyter-widgets/base",
       "_model_module_version": "1.2.0",
       "_model_name": "LayoutModel",
       "_view_count": null,
       "_view_module": "@jupyter-widgets/base",
       "_view_module_version": "1.2.0",
       "_view_name": "LayoutView",
       "align_content": null,
       "align_items": null,
       "align_self": null,
       "border": null,
       "bottom": null,
       "display": null,
       "flex": null,
       "flex_flow": null,
       "grid_area": null,
       "grid_auto_columns": null,
       "grid_auto_flow": null,
       "grid_auto_rows": null,
       "grid_column": null,
       "grid_gap": null,
       "grid_row": null,
       "grid_template_areas": null,
       "grid_template_columns": null,
       "grid_template_rows": null,
       "height": null,
       "justify_content": null,
       "justify_items": null,
       "left": null,
       "margin": null,
       "max_height": null,
       "max_width": null,
       "min_height": null,
       "min_width": null,
       "object_fit": null,
       "object_position": null,
       "order": null,
       "overflow": null,
       "overflow_x": null,
       "overflow_y": null,
       "padding": null,
       "right": null,
       "top": null,
       "visibility": null,
       "width": null
      }
     },
     "398a3880dcf244379b597388e811f190": {
      "model_module": "@jupyter-widgets/base",
      "model_module_version": "1.2.0",
      "model_name": "LayoutModel",
      "state": {
       "_model_module": "@jupyter-widgets/base",
       "_model_module_version": "1.2.0",
       "_model_name": "LayoutModel",
       "_view_count": null,
       "_view_module": "@jupyter-widgets/base",
       "_view_module_version": "1.2.0",
       "_view_name": "LayoutView",
       "align_content": null,
       "align_items": null,
       "align_self": null,
       "border": null,
       "bottom": null,
       "display": null,
       "flex": null,
       "flex_flow": null,
       "grid_area": null,
       "grid_auto_columns": null,
       "grid_auto_flow": null,
       "grid_auto_rows": null,
       "grid_column": null,
       "grid_gap": null,
       "grid_row": null,
       "grid_template_areas": null,
       "grid_template_columns": null,
       "grid_template_rows": null,
       "height": null,
       "justify_content": null,
       "justify_items": null,
       "left": null,
       "margin": null,
       "max_height": null,
       "max_width": null,
       "min_height": null,
       "min_width": null,
       "object_fit": null,
       "object_position": null,
       "order": null,
       "overflow": null,
       "overflow_x": null,
       "overflow_y": null,
       "padding": null,
       "right": null,
       "top": null,
       "visibility": null,
       "width": null
      }
     },
     "3ca6a40f9ca24f77bbdaefa5e0c82ddb": {
      "model_module": "@jupyter-widgets/base",
      "model_module_version": "1.2.0",
      "model_name": "LayoutModel",
      "state": {
       "_model_module": "@jupyter-widgets/base",
       "_model_module_version": "1.2.0",
       "_model_name": "LayoutModel",
       "_view_count": null,
       "_view_module": "@jupyter-widgets/base",
       "_view_module_version": "1.2.0",
       "_view_name": "LayoutView",
       "align_content": null,
       "align_items": null,
       "align_self": null,
       "border": null,
       "bottom": null,
       "display": null,
       "flex": null,
       "flex_flow": null,
       "grid_area": null,
       "grid_auto_columns": null,
       "grid_auto_flow": null,
       "grid_auto_rows": null,
       "grid_column": null,
       "grid_gap": null,
       "grid_row": null,
       "grid_template_areas": null,
       "grid_template_columns": null,
       "grid_template_rows": null,
       "height": null,
       "justify_content": null,
       "justify_items": null,
       "left": null,
       "margin": null,
       "max_height": null,
       "max_width": null,
       "min_height": null,
       "min_width": null,
       "object_fit": null,
       "object_position": null,
       "order": null,
       "overflow": null,
       "overflow_x": null,
       "overflow_y": null,
       "padding": null,
       "right": null,
       "top": null,
       "visibility": null,
       "width": null
      }
     },
     "3cb215aaa60a4a038940ae9ad77b666f": {
      "model_module": "@jupyter-widgets/controls",
      "model_module_version": "1.5.0",
      "model_name": "HBoxModel",
      "state": {
       "_dom_classes": [],
       "_model_module": "@jupyter-widgets/controls",
       "_model_module_version": "1.5.0",
       "_model_name": "HBoxModel",
       "_view_count": null,
       "_view_module": "@jupyter-widgets/controls",
       "_view_module_version": "1.5.0",
       "_view_name": "HBoxView",
       "box_style": "",
       "children": [
        "IPY_MODEL_063211e56d7649c185d6f3835746e7f9",
        "IPY_MODEL_a0e7cb949d8f4121b45d052a0a53f4a6",
        "IPY_MODEL_08f20a08ad79470383841a857ccd7f07"
       ],
       "layout": "IPY_MODEL_6ea8d45d9a9e4bfab6335f3cbc088a27"
      }
     },
     "3e29314f768f433883d66b7902ef3091": {
      "model_module": "@jupyter-widgets/base",
      "model_module_version": "1.2.0",
      "model_name": "LayoutModel",
      "state": {
       "_model_module": "@jupyter-widgets/base",
       "_model_module_version": "1.2.0",
       "_model_name": "LayoutModel",
       "_view_count": null,
       "_view_module": "@jupyter-widgets/base",
       "_view_module_version": "1.2.0",
       "_view_name": "LayoutView",
       "align_content": null,
       "align_items": null,
       "align_self": null,
       "border": null,
       "bottom": null,
       "display": null,
       "flex": null,
       "flex_flow": null,
       "grid_area": null,
       "grid_auto_columns": null,
       "grid_auto_flow": null,
       "grid_auto_rows": null,
       "grid_column": null,
       "grid_gap": null,
       "grid_row": null,
       "grid_template_areas": null,
       "grid_template_columns": null,
       "grid_template_rows": null,
       "height": null,
       "justify_content": null,
       "justify_items": null,
       "left": null,
       "margin": null,
       "max_height": null,
       "max_width": null,
       "min_height": null,
       "min_width": null,
       "object_fit": null,
       "object_position": null,
       "order": null,
       "overflow": null,
       "overflow_x": null,
       "overflow_y": null,
       "padding": null,
       "right": null,
       "top": null,
       "visibility": null,
       "width": null
      }
     },
     "4a2bf23f263c4b8096d5621786b151b7": {
      "model_module": "@jupyter-widgets/controls",
      "model_module_version": "1.5.0",
      "model_name": "DescriptionStyleModel",
      "state": {
       "_model_module": "@jupyter-widgets/controls",
       "_model_module_version": "1.5.0",
       "_model_name": "DescriptionStyleModel",
       "_view_count": null,
       "_view_module": "@jupyter-widgets/base",
       "_view_module_version": "1.2.0",
       "_view_name": "StyleView",
       "description_width": ""
      }
     },
     "4a4b659ccc5c41f88646411a5345d757": {
      "model_module": "@jupyter-widgets/controls",
      "model_module_version": "1.5.0",
      "model_name": "DescriptionStyleModel",
      "state": {
       "_model_module": "@jupyter-widgets/controls",
       "_model_module_version": "1.5.0",
       "_model_name": "DescriptionStyleModel",
       "_view_count": null,
       "_view_module": "@jupyter-widgets/base",
       "_view_module_version": "1.2.0",
       "_view_name": "StyleView",
       "description_width": ""
      }
     },
     "53b01191cde24da1bf08a3f30552020a": {
      "model_module": "@jupyter-widgets/controls",
      "model_module_version": "1.5.0",
      "model_name": "ProgressStyleModel",
      "state": {
       "_model_module": "@jupyter-widgets/controls",
       "_model_module_version": "1.5.0",
       "_model_name": "ProgressStyleModel",
       "_view_count": null,
       "_view_module": "@jupyter-widgets/base",
       "_view_module_version": "1.2.0",
       "_view_name": "StyleView",
       "bar_color": null,
       "description_width": ""
      }
     },
     "6994288d5c164bd0bba70b3558abb29a": {
      "model_module": "@jupyter-widgets/controls",
      "model_module_version": "1.5.0",
      "model_name": "HBoxModel",
      "state": {
       "_dom_classes": [],
       "_model_module": "@jupyter-widgets/controls",
       "_model_module_version": "1.5.0",
       "_model_name": "HBoxModel",
       "_view_count": null,
       "_view_module": "@jupyter-widgets/controls",
       "_view_module_version": "1.5.0",
       "_view_name": "HBoxView",
       "box_style": "",
       "children": [
        "IPY_MODEL_cba745ed935a4723a7df153f0e325974",
        "IPY_MODEL_07caecd4620d47a18213e3db738f3ff7",
        "IPY_MODEL_27cfd94a09114a0182e505649b181217"
       ],
       "layout": "IPY_MODEL_3ca6a40f9ca24f77bbdaefa5e0c82ddb"
      }
     },
     "6ea8d45d9a9e4bfab6335f3cbc088a27": {
      "model_module": "@jupyter-widgets/base",
      "model_module_version": "1.2.0",
      "model_name": "LayoutModel",
      "state": {
       "_model_module": "@jupyter-widgets/base",
       "_model_module_version": "1.2.0",
       "_model_name": "LayoutModel",
       "_view_count": null,
       "_view_module": "@jupyter-widgets/base",
       "_view_module_version": "1.2.0",
       "_view_name": "LayoutView",
       "align_content": null,
       "align_items": null,
       "align_self": null,
       "border": null,
       "bottom": null,
       "display": null,
       "flex": null,
       "flex_flow": null,
       "grid_area": null,
       "grid_auto_columns": null,
       "grid_auto_flow": null,
       "grid_auto_rows": null,
       "grid_column": null,
       "grid_gap": null,
       "grid_row": null,
       "grid_template_areas": null,
       "grid_template_columns": null,
       "grid_template_rows": null,
       "height": null,
       "justify_content": null,
       "justify_items": null,
       "left": null,
       "margin": null,
       "max_height": null,
       "max_width": null,
       "min_height": null,
       "min_width": null,
       "object_fit": null,
       "object_position": null,
       "order": null,
       "overflow": null,
       "overflow_x": null,
       "overflow_y": null,
       "padding": null,
       "right": null,
       "top": null,
       "visibility": null,
       "width": null
      }
     },
     "737af1b43aab4d63b570da104e6c9e92": {
      "model_module": "@jupyter-widgets/controls",
      "model_module_version": "1.5.0",
      "model_name": "ProgressStyleModel",
      "state": {
       "_model_module": "@jupyter-widgets/controls",
       "_model_module_version": "1.5.0",
       "_model_name": "ProgressStyleModel",
       "_view_count": null,
       "_view_module": "@jupyter-widgets/base",
       "_view_module_version": "1.2.0",
       "_view_name": "StyleView",
       "bar_color": null,
       "description_width": ""
      }
     },
     "75ba34969b974ace85197101f4679246": {
      "model_module": "@jupyter-widgets/controls",
      "model_module_version": "1.5.0",
      "model_name": "HTMLModel",
      "state": {
       "_dom_classes": [],
       "_model_module": "@jupyter-widgets/controls",
       "_model_module_version": "1.5.0",
       "_model_name": "HTMLModel",
       "_view_count": null,
       "_view_module": "@jupyter-widgets/controls",
       "_view_module_version": "1.5.0",
       "_view_name": "HTMLView",
       "description": "",
       "description_tooltip": null,
       "layout": "IPY_MODEL_7efccad81ede4c378c1a358df71db10a",
       "placeholder": "​",
       "style": "IPY_MODEL_4a2bf23f263c4b8096d5621786b151b7",
       "value": "Downloading (…)lve/main/config.json: 100%"
      }
     },
     "76b9f6ed218f494ebc11b1d6faf554f8": {
      "model_module": "@jupyter-widgets/base",
      "model_module_version": "1.2.0",
      "model_name": "LayoutModel",
      "state": {
       "_model_module": "@jupyter-widgets/base",
       "_model_module_version": "1.2.0",
       "_model_name": "LayoutModel",
       "_view_count": null,
       "_view_module": "@jupyter-widgets/base",
       "_view_module_version": "1.2.0",
       "_view_name": "LayoutView",
       "align_content": null,
       "align_items": null,
       "align_self": null,
       "border": null,
       "bottom": null,
       "display": null,
       "flex": null,
       "flex_flow": null,
       "grid_area": null,
       "grid_auto_columns": null,
       "grid_auto_flow": null,
       "grid_auto_rows": null,
       "grid_column": null,
       "grid_gap": null,
       "grid_row": null,
       "grid_template_areas": null,
       "grid_template_columns": null,
       "grid_template_rows": null,
       "height": null,
       "justify_content": null,
       "justify_items": null,
       "left": null,
       "margin": null,
       "max_height": null,
       "max_width": null,
       "min_height": null,
       "min_width": null,
       "object_fit": null,
       "object_position": null,
       "order": null,
       "overflow": null,
       "overflow_x": null,
       "overflow_y": null,
       "padding": null,
       "right": null,
       "top": null,
       "visibility": null,
       "width": null
      }
     },
     "7efccad81ede4c378c1a358df71db10a": {
      "model_module": "@jupyter-widgets/base",
      "model_module_version": "1.2.0",
      "model_name": "LayoutModel",
      "state": {
       "_model_module": "@jupyter-widgets/base",
       "_model_module_version": "1.2.0",
       "_model_name": "LayoutModel",
       "_view_count": null,
       "_view_module": "@jupyter-widgets/base",
       "_view_module_version": "1.2.0",
       "_view_name": "LayoutView",
       "align_content": null,
       "align_items": null,
       "align_self": null,
       "border": null,
       "bottom": null,
       "display": null,
       "flex": null,
       "flex_flow": null,
       "grid_area": null,
       "grid_auto_columns": null,
       "grid_auto_flow": null,
       "grid_auto_rows": null,
       "grid_column": null,
       "grid_gap": null,
       "grid_row": null,
       "grid_template_areas": null,
       "grid_template_columns": null,
       "grid_template_rows": null,
       "height": null,
       "justify_content": null,
       "justify_items": null,
       "left": null,
       "margin": null,
       "max_height": null,
       "max_width": null,
       "min_height": null,
       "min_width": null,
       "object_fit": null,
       "object_position": null,
       "order": null,
       "overflow": null,
       "overflow_x": null,
       "overflow_y": null,
       "padding": null,
       "right": null,
       "top": null,
       "visibility": null,
       "width": null
      }
     },
     "855e61d54f7e4dd7b3a0665e48bef8f2": {
      "model_module": "@jupyter-widgets/controls",
      "model_module_version": "1.5.0",
      "model_name": "DescriptionStyleModel",
      "state": {
       "_model_module": "@jupyter-widgets/controls",
       "_model_module_version": "1.5.0",
       "_model_name": "DescriptionStyleModel",
       "_view_count": null,
       "_view_module": "@jupyter-widgets/base",
       "_view_module_version": "1.2.0",
       "_view_name": "StyleView",
       "description_width": ""
      }
     },
     "90f891004a2b4426b9df6650ed6d8b27": {
      "model_module": "@jupyter-widgets/base",
      "model_module_version": "1.2.0",
      "model_name": "LayoutModel",
      "state": {
       "_model_module": "@jupyter-widgets/base",
       "_model_module_version": "1.2.0",
       "_model_name": "LayoutModel",
       "_view_count": null,
       "_view_module": "@jupyter-widgets/base",
       "_view_module_version": "1.2.0",
       "_view_name": "LayoutView",
       "align_content": null,
       "align_items": null,
       "align_self": null,
       "border": null,
       "bottom": null,
       "display": null,
       "flex": null,
       "flex_flow": null,
       "grid_area": null,
       "grid_auto_columns": null,
       "grid_auto_flow": null,
       "grid_auto_rows": null,
       "grid_column": null,
       "grid_gap": null,
       "grid_row": null,
       "grid_template_areas": null,
       "grid_template_columns": null,
       "grid_template_rows": null,
       "height": null,
       "justify_content": null,
       "justify_items": null,
       "left": null,
       "margin": null,
       "max_height": null,
       "max_width": null,
       "min_height": null,
       "min_width": null,
       "object_fit": null,
       "object_position": null,
       "order": null,
       "overflow": null,
       "overflow_x": null,
       "overflow_y": null,
       "padding": null,
       "right": null,
       "top": null,
       "visibility": null,
       "width": null
      }
     },
     "94df16a4767343daa451add897563d86": {
      "model_module": "@jupyter-widgets/controls",
      "model_module_version": "1.5.0",
      "model_name": "HTMLModel",
      "state": {
       "_dom_classes": [],
       "_model_module": "@jupyter-widgets/controls",
       "_model_module_version": "1.5.0",
       "_model_name": "HTMLModel",
       "_view_count": null,
       "_view_module": "@jupyter-widgets/controls",
       "_view_module_version": "1.5.0",
       "_view_name": "HTMLView",
       "description": "",
       "description_tooltip": null,
       "layout": "IPY_MODEL_0d6d4e2c4b754b109abaf65027a16049",
       "placeholder": "​",
       "style": "IPY_MODEL_e12aa2ac0dff4ca6b65bfd838d5b4ca2",
       "value": " 436M/436M [00:01&lt;00:00, 271MB/s]"
      }
     },
     "9e775b6d06dd4402b0a3e27a75556555": {
      "model_module": "@jupyter-widgets/base",
      "model_module_version": "1.2.0",
      "model_name": "LayoutModel",
      "state": {
       "_model_module": "@jupyter-widgets/base",
       "_model_module_version": "1.2.0",
       "_model_name": "LayoutModel",
       "_view_count": null,
       "_view_module": "@jupyter-widgets/base",
       "_view_module_version": "1.2.0",
       "_view_name": "LayoutView",
       "align_content": null,
       "align_items": null,
       "align_self": null,
       "border": null,
       "bottom": null,
       "display": null,
       "flex": null,
       "flex_flow": null,
       "grid_area": null,
       "grid_auto_columns": null,
       "grid_auto_flow": null,
       "grid_auto_rows": null,
       "grid_column": null,
       "grid_gap": null,
       "grid_row": null,
       "grid_template_areas": null,
       "grid_template_columns": null,
       "grid_template_rows": null,
       "height": null,
       "justify_content": null,
       "justify_items": null,
       "left": null,
       "margin": null,
       "max_height": null,
       "max_width": null,
       "min_height": null,
       "min_width": null,
       "object_fit": null,
       "object_position": null,
       "order": null,
       "overflow": null,
       "overflow_x": null,
       "overflow_y": null,
       "padding": null,
       "right": null,
       "top": null,
       "visibility": null,
       "width": null
      }
     },
     "a0e7cb949d8f4121b45d052a0a53f4a6": {
      "model_module": "@jupyter-widgets/controls",
      "model_module_version": "1.5.0",
      "model_name": "FloatProgressModel",
      "state": {
       "_dom_classes": [],
       "_model_module": "@jupyter-widgets/controls",
       "_model_module_version": "1.5.0",
       "_model_name": "FloatProgressModel",
       "_view_count": null,
       "_view_module": "@jupyter-widgets/controls",
       "_view_module_version": "1.5.0",
       "_view_name": "ProgressView",
       "bar_style": "success",
       "description": "",
       "description_tooltip": null,
       "layout": "IPY_MODEL_3e29314f768f433883d66b7902ef3091",
       "max": 29,
       "min": 0,
       "orientation": "horizontal",
       "style": "IPY_MODEL_db2207c2e7ca47b98643e3ffb3dca384",
       "value": 29
      }
     },
     "a55369d923d5497a8fc061e33cbffefb": {
      "model_module": "@jupyter-widgets/controls",
      "model_module_version": "1.5.0",
      "model_name": "HBoxModel",
      "state": {
       "_dom_classes": [],
       "_model_module": "@jupyter-widgets/controls",
       "_model_module_version": "1.5.0",
       "_model_name": "HBoxModel",
       "_view_count": null,
       "_view_module": "@jupyter-widgets/controls",
       "_view_module_version": "1.5.0",
       "_view_name": "HBoxView",
       "box_style": "",
       "children": [
        "IPY_MODEL_75ba34969b974ace85197101f4679246",
        "IPY_MODEL_2a56072f289449c388690b542ad8aa37",
        "IPY_MODEL_32eab628424f45318e803e0836c3c322"
       ],
       "layout": "IPY_MODEL_76b9f6ed218f494ebc11b1d6faf554f8"
      }
     },
     "a85c7b9078d54801a3dcc69fc24da57b": {
      "model_module": "@jupyter-widgets/controls",
      "model_module_version": "1.5.0",
      "model_name": "HBoxModel",
      "state": {
       "_dom_classes": [],
       "_model_module": "@jupyter-widgets/controls",
       "_model_module_version": "1.5.0",
       "_model_name": "HBoxModel",
       "_view_count": null,
       "_view_module": "@jupyter-widgets/controls",
       "_view_module_version": "1.5.0",
       "_view_name": "HBoxView",
       "box_style": "",
       "children": [
        "IPY_MODEL_cf6e46a8d1bf472799a74258c2d2a8cd",
        "IPY_MODEL_195dd4334a1d4b039c6d0453f0f5c106",
        "IPY_MODEL_94df16a4767343daa451add897563d86"
       ],
       "layout": "IPY_MODEL_90f891004a2b4426b9df6650ed6d8b27"
      }
     },
     "b0a5d855309840fcb635e2be604b3d32": {
      "model_module": "@jupyter-widgets/controls",
      "model_module_version": "1.5.0",
      "model_name": "DescriptionStyleModel",
      "state": {
       "_model_module": "@jupyter-widgets/controls",
       "_model_module_version": "1.5.0",
       "_model_name": "DescriptionStyleModel",
       "_view_count": null,
       "_view_module": "@jupyter-widgets/base",
       "_view_module_version": "1.2.0",
       "_view_name": "StyleView",
       "description_width": ""
      }
     },
     "b3251161bf3b4f58a1798fbf5b6c75ea": {
      "model_module": "@jupyter-widgets/base",
      "model_module_version": "1.2.0",
      "model_name": "LayoutModel",
      "state": {
       "_model_module": "@jupyter-widgets/base",
       "_model_module_version": "1.2.0",
       "_model_name": "LayoutModel",
       "_view_count": null,
       "_view_module": "@jupyter-widgets/base",
       "_view_module_version": "1.2.0",
       "_view_name": "LayoutView",
       "align_content": null,
       "align_items": null,
       "align_self": null,
       "border": null,
       "bottom": null,
       "display": null,
       "flex": null,
       "flex_flow": null,
       "grid_area": null,
       "grid_auto_columns": null,
       "grid_auto_flow": null,
       "grid_auto_rows": null,
       "grid_column": null,
       "grid_gap": null,
       "grid_row": null,
       "grid_template_areas": null,
       "grid_template_columns": null,
       "grid_template_rows": null,
       "height": null,
       "justify_content": null,
       "justify_items": null,
       "left": null,
       "margin": null,
       "max_height": null,
       "max_width": null,
       "min_height": null,
       "min_width": null,
       "object_fit": null,
       "object_position": null,
       "order": null,
       "overflow": null,
       "overflow_x": null,
       "overflow_y": null,
       "padding": null,
       "right": null,
       "top": null,
       "visibility": null,
       "width": null
      }
     },
     "c603c400cef24bfeb0ee9d597ecbef19": {
      "model_module": "@jupyter-widgets/controls",
      "model_module_version": "1.5.0",
      "model_name": "ProgressStyleModel",
      "state": {
       "_model_module": "@jupyter-widgets/controls",
       "_model_module_version": "1.5.0",
       "_model_name": "ProgressStyleModel",
       "_view_count": null,
       "_view_module": "@jupyter-widgets/base",
       "_view_module_version": "1.2.0",
       "_view_name": "StyleView",
       "bar_color": null,
       "description_width": ""
      }
     },
     "cba745ed935a4723a7df153f0e325974": {
      "model_module": "@jupyter-widgets/controls",
      "model_module_version": "1.5.0",
      "model_name": "HTMLModel",
      "state": {
       "_dom_classes": [],
       "_model_module": "@jupyter-widgets/controls",
       "_model_module_version": "1.5.0",
       "_model_name": "HTMLModel",
       "_view_count": null,
       "_view_module": "@jupyter-widgets/controls",
       "_view_module_version": "1.5.0",
       "_view_name": "HTMLView",
       "description": "",
       "description_tooltip": null,
       "layout": "IPY_MODEL_9e775b6d06dd4402b0a3e27a75556555",
       "placeholder": "​",
       "style": "IPY_MODEL_ff53e06d1836457daded5675b33c874a",
       "value": "Downloading (…)solve/main/vocab.txt: 100%"
      }
     },
     "cf6e46a8d1bf472799a74258c2d2a8cd": {
      "model_module": "@jupyter-widgets/controls",
      "model_module_version": "1.5.0",
      "model_name": "HTMLModel",
      "state": {
       "_dom_classes": [],
       "_model_module": "@jupyter-widgets/controls",
       "_model_module_version": "1.5.0",
       "_model_name": "HTMLModel",
       "_view_count": null,
       "_view_module": "@jupyter-widgets/controls",
       "_view_module_version": "1.5.0",
       "_view_name": "HTMLView",
       "description": "",
       "description_tooltip": null,
       "layout": "IPY_MODEL_36585ac65aa94720bd9309977de258de",
       "placeholder": "​",
       "style": "IPY_MODEL_219077d2ebe74171aa5a539d403018c8",
       "value": "Downloading pytorch_model.bin: 100%"
      }
     },
     "db2207c2e7ca47b98643e3ffb3dca384": {
      "model_module": "@jupyter-widgets/controls",
      "model_module_version": "1.5.0",
      "model_name": "ProgressStyleModel",
      "state": {
       "_model_module": "@jupyter-widgets/controls",
       "_model_module_version": "1.5.0",
       "_model_name": "ProgressStyleModel",
       "_view_count": null,
       "_view_module": "@jupyter-widgets/base",
       "_view_module_version": "1.2.0",
       "_view_name": "StyleView",
       "bar_color": null,
       "description_width": ""
      }
     },
     "e0fe39e87ebb4de5ba8255af823a2fd1": {
      "model_module": "@jupyter-widgets/base",
      "model_module_version": "1.2.0",
      "model_name": "LayoutModel",
      "state": {
       "_model_module": "@jupyter-widgets/base",
       "_model_module_version": "1.2.0",
       "_model_name": "LayoutModel",
       "_view_count": null,
       "_view_module": "@jupyter-widgets/base",
       "_view_module_version": "1.2.0",
       "_view_name": "LayoutView",
       "align_content": null,
       "align_items": null,
       "align_self": null,
       "border": null,
       "bottom": null,
       "display": null,
       "flex": null,
       "flex_flow": null,
       "grid_area": null,
       "grid_auto_columns": null,
       "grid_auto_flow": null,
       "grid_auto_rows": null,
       "grid_column": null,
       "grid_gap": null,
       "grid_row": null,
       "grid_template_areas": null,
       "grid_template_columns": null,
       "grid_template_rows": null,
       "height": null,
       "justify_content": null,
       "justify_items": null,
       "left": null,
       "margin": null,
       "max_height": null,
       "max_width": null,
       "min_height": null,
       "min_width": null,
       "object_fit": null,
       "object_position": null,
       "order": null,
       "overflow": null,
       "overflow_x": null,
       "overflow_y": null,
       "padding": null,
       "right": null,
       "top": null,
       "visibility": null,
       "width": null
      }
     },
     "e12aa2ac0dff4ca6b65bfd838d5b4ca2": {
      "model_module": "@jupyter-widgets/controls",
      "model_module_version": "1.5.0",
      "model_name": "DescriptionStyleModel",
      "state": {
       "_model_module": "@jupyter-widgets/controls",
       "_model_module_version": "1.5.0",
       "_model_name": "DescriptionStyleModel",
       "_view_count": null,
       "_view_module": "@jupyter-widgets/base",
       "_view_module_version": "1.2.0",
       "_view_name": "StyleView",
       "description_width": ""
      }
     },
     "eae9ae027772405788e1eb76583d5571": {
      "model_module": "@jupyter-widgets/base",
      "model_module_version": "1.2.0",
      "model_name": "LayoutModel",
      "state": {
       "_model_module": "@jupyter-widgets/base",
       "_model_module_version": "1.2.0",
       "_model_name": "LayoutModel",
       "_view_count": null,
       "_view_module": "@jupyter-widgets/base",
       "_view_module_version": "1.2.0",
       "_view_name": "LayoutView",
       "align_content": null,
       "align_items": null,
       "align_self": null,
       "border": null,
       "bottom": null,
       "display": null,
       "flex": null,
       "flex_flow": null,
       "grid_area": null,
       "grid_auto_columns": null,
       "grid_auto_flow": null,
       "grid_auto_rows": null,
       "grid_column": null,
       "grid_gap": null,
       "grid_row": null,
       "grid_template_areas": null,
       "grid_template_columns": null,
       "grid_template_rows": null,
       "height": null,
       "justify_content": null,
       "justify_items": null,
       "left": null,
       "margin": null,
       "max_height": null,
       "max_width": null,
       "min_height": null,
       "min_width": null,
       "object_fit": null,
       "object_position": null,
       "order": null,
       "overflow": null,
       "overflow_x": null,
       "overflow_y": null,
       "padding": null,
       "right": null,
       "top": null,
       "visibility": null,
       "width": null
      }
     },
     "ed8725728e6b43e89f9b0fb728dbf53a": {
      "model_module": "@jupyter-widgets/base",
      "model_module_version": "1.2.0",
      "model_name": "LayoutModel",
      "state": {
       "_model_module": "@jupyter-widgets/base",
       "_model_module_version": "1.2.0",
       "_model_name": "LayoutModel",
       "_view_count": null,
       "_view_module": "@jupyter-widgets/base",
       "_view_module_version": "1.2.0",
       "_view_name": "LayoutView",
       "align_content": null,
       "align_items": null,
       "align_self": null,
       "border": null,
       "bottom": null,
       "display": null,
       "flex": null,
       "flex_flow": null,
       "grid_area": null,
       "grid_auto_columns": null,
       "grid_auto_flow": null,
       "grid_auto_rows": null,
       "grid_column": null,
       "grid_gap": null,
       "grid_row": null,
       "grid_template_areas": null,
       "grid_template_columns": null,
       "grid_template_rows": null,
       "height": null,
       "justify_content": null,
       "justify_items": null,
       "left": null,
       "margin": null,
       "max_height": null,
       "max_width": null,
       "min_height": null,
       "min_width": null,
       "object_fit": null,
       "object_position": null,
       "order": null,
       "overflow": null,
       "overflow_x": null,
       "overflow_y": null,
       "padding": null,
       "right": null,
       "top": null,
       "visibility": null,
       "width": null
      }
     },
     "ef8dfd2e55cc47c7a461db854193ffa4": {
      "model_module": "@jupyter-widgets/controls",
      "model_module_version": "1.5.0",
      "model_name": "DescriptionStyleModel",
      "state": {
       "_model_module": "@jupyter-widgets/controls",
       "_model_module_version": "1.5.0",
       "_model_name": "DescriptionStyleModel",
       "_view_count": null,
       "_view_module": "@jupyter-widgets/base",
       "_view_module_version": "1.2.0",
       "_view_name": "StyleView",
       "description_width": ""
      }
     },
     "fa8a1ca49b6043b9a1340d53d2322d36": {
      "model_module": "@jupyter-widgets/base",
      "model_module_version": "1.2.0",
      "model_name": "LayoutModel",
      "state": {
       "_model_module": "@jupyter-widgets/base",
       "_model_module_version": "1.2.0",
       "_model_name": "LayoutModel",
       "_view_count": null,
       "_view_module": "@jupyter-widgets/base",
       "_view_module_version": "1.2.0",
       "_view_name": "LayoutView",
       "align_content": null,
       "align_items": null,
       "align_self": null,
       "border": null,
       "bottom": null,
       "display": null,
       "flex": null,
       "flex_flow": null,
       "grid_area": null,
       "grid_auto_columns": null,
       "grid_auto_flow": null,
       "grid_auto_rows": null,
       "grid_column": null,
       "grid_gap": null,
       "grid_row": null,
       "grid_template_areas": null,
       "grid_template_columns": null,
       "grid_template_rows": null,
       "height": null,
       "justify_content": null,
       "justify_items": null,
       "left": null,
       "margin": null,
       "max_height": null,
       "max_width": null,
       "min_height": null,
       "min_width": null,
       "object_fit": null,
       "object_position": null,
       "order": null,
       "overflow": null,
       "overflow_x": null,
       "overflow_y": null,
       "padding": null,
       "right": null,
       "top": null,
       "visibility": null,
       "width": null
      }
     },
     "ff53e06d1836457daded5675b33c874a": {
      "model_module": "@jupyter-widgets/controls",
      "model_module_version": "1.5.0",
      "model_name": "DescriptionStyleModel",
      "state": {
       "_model_module": "@jupyter-widgets/controls",
       "_model_module_version": "1.5.0",
       "_model_name": "DescriptionStyleModel",
       "_view_count": null,
       "_view_module": "@jupyter-widgets/base",
       "_view_module_version": "1.2.0",
       "_view_name": "StyleView",
       "description_width": ""
      }
     }
    },
    "version_major": 2,
    "version_minor": 0
   }
  }
 },
 "nbformat": 4,
 "nbformat_minor": 5
}
